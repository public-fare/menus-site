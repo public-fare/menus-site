{
 "metadata": {
  "name": "",
  "signature": "sha256:9f6407cffbd8616139e3598866f35a2c15ec5d0b4c21f2f444ba03f2e511d6e1"
 },
 "nbformat": 3,
 "nbformat_minor": 0,
 "worksheets": [
  {
   "cells": [
    {
     "cell_type": "heading",
     "level": 1,
     "metadata": {},
     "source": [
      "Downloading Data from the *What's on the Menu* API"
     ]
    },
    {
     "cell_type": "markdown",
     "metadata": {},
     "source": [
      "by Trevor Mu\u00f1oz [@trevormunoz](https://twitter.com/trevormunoz)"
     ]
    },
    {
     "cell_type": "markdown",
     "metadata": {},
     "source": [
      "[Katie Rawson](https://twitter.com/katie_rawson) and I are using the data created by the New York Public Library's [*What's on the Menu?* transcription project](http://menus.nypl.org/) to [research questions about food and culture](http://www.curatingmenus.org/). In addition to making the data available for [bulk download](http://menus.nypl.org/data), the library provides an API. I used this API to assemble a subset of the data for our next round of explorations. This notebook is mainly for documenting how we assembled the data set we'll be using."
     ]
    },
    {
     "cell_type": "code",
     "collapsed": false,
     "input": [
      "import os\n",
      "import json\n",
      "from time import sleep\n",
      "import logging\n",
      "\n",
      "# http://docs.python-requests.org/en/latest/\n",
      "import requests"
     ],
     "language": "python",
     "metadata": {},
     "outputs": [],
     "prompt_number": 1
    },
    {
     "cell_type": "markdown",
     "metadata": {},
     "source": [
      "Since, we're going to be making a lot of very similar requests, it's worthwhile to set up a session object so we don't have to put the same parameters on every request."
     ]
    },
    {
     "cell_type": "code",
     "collapsed": false,
     "input": [
      "sess = requests.Session()\n",
      "sess.params.update({'token' : os.environ['MENUS_API_KEY'], 'max_year': '1922',\n",
      " 'min_year': '1851'})"
     ],
     "language": "python",
     "metadata": {},
     "outputs": [],
     "prompt_number": 2
    },
    {
     "cell_type": "markdown",
     "metadata": {},
     "source": [
      "Use of the *What's on the Menu?* API requires an authorization. Information on how to obtain one as well as documentation of the request parameters and such is available on the [documentation page](http://nypl.github.io/menus-api/) for the API."
     ]
    },
    {
     "cell_type": "code",
     "collapsed": false,
     "input": [
      "seed_url = 'http://api.menus.nypl.org/menus'\n",
      "\n",
      "r = sess.get(seed_url)"
     ],
     "language": "python",
     "metadata": {},
     "outputs": [],
     "prompt_number": 3
    },
    {
     "cell_type": "markdown",
     "metadata": {},
     "source": [
      "If we peek at the headers we get back from this first request, we find something like:\n",
      "\n",
      "`<http://menus.nypl.org/api/menus?sort_by=date&token=XXXXXXXXXXXXXXXXXXXXXXXXXX&max_year=1922&min_year=1851&per_page=50&page=246>; rel=\"last\"'`\n",
      "\n",
      "which lets us know that we're getting 50 results per page and there are 246 pages to request if we want to get all the menu data."
     ]
    },
    {
     "cell_type": "markdown",
     "metadata": {},
     "source": [
      "Since things can go wrong talking to remote systems, we should set up a log file to keep an eye on things.  Full disclosure: I just copied this logging code from the StackOverflow answer somewhere."
     ]
    },
    {
     "cell_type": "code",
     "collapsed": false,
     "input": [
      "logger = logging.getLogger(\"menus\")\n",
      "logger.setLevel(20)\n",
      "loggerFileHandler = logging.FileHandler(\"menus.log\")\n",
      "loggerFileHandler.setLevel(20)\n",
      "loggerFormatter = logging.Formatter('%(asctime)s - %(name)s - %(levelname)s - %(message)s')\n",
      "loggerFileHandler.setFormatter(loggerFormatter)\n",
      "logger.addHandler(loggerFileHandler)"
     ],
     "language": "python",
     "metadata": {},
     "outputs": [],
     "prompt_number": 4
    },
    {
     "cell_type": "markdown",
     "metadata": {},
     "source": [
      "Here's where the work really happens. I'm going to cheat a bit. I could grab the 'next' link from the headers after every request but that link is formulated a bit oddly so it gets me in trouble with NYPL's security measures. Since we looked at the link headers of the first request and we know there are 246 pages of results, I'll skip parsing out that next page link and just use a simple loop. \n",
      "\n",
      "Append the content of each API response to a list."
     ]
    },
    {
     "cell_type": "code",
     "collapsed": false,
     "input": [
      "data = []\n",
      "\n",
      "for x in range(1,246):\n",
      "    r = sess.get(seed_url, params={'page' : x})\n",
      "    data.append(r.content)\n",
      "    logger.info(\"Processed: {0}. Status: {1}\".format(r.request.url, r.status_code))\n",
      "    sleep(0.5)"
     ],
     "language": "python",
     "metadata": {},
     "outputs": [],
     "prompt_number": 5
    },
    {
     "cell_type": "markdown",
     "metadata": {},
     "source": [
      "\\* The first time I ran this, there were only 245 pages of results, and I forgot to update my loop."
     ]
    },
    {
     "cell_type": "code",
     "collapsed": false,
     "input": [
      "len(data)"
     ],
     "language": "python",
     "metadata": {},
     "outputs": [
      {
       "metadata": {},
       "output_type": "pyout",
       "prompt_number": 7,
       "text": [
        "245"
       ]
      }
     ],
     "prompt_number": 7
    },
    {
     "cell_type": "markdown",
     "metadata": {},
     "source": [
      "The API returns JSON but when it comes over the wire it comes back as byte strings, so we have to turn it back into objects"
     ]
    },
    {
     "cell_type": "code",
     "collapsed": false,
     "input": [
      "data_as_dicts = [json.loads(d.decode()) for d in data]"
     ],
     "language": "python",
     "metadata": {},
     "outputs": [],
     "prompt_number": 8
    },
    {
     "cell_type": "markdown",
     "metadata": {},
     "source": [
      "Inspecting the data a bit to see exactly what we got ..."
     ]
    },
    {
     "cell_type": "code",
     "collapsed": false,
     "input": [
      "print(data_as_dicts[0].keys())"
     ],
     "language": "python",
     "metadata": {},
     "outputs": [
      {
       "output_type": "stream",
       "stream": "stdout",
       "text": [
        "dict_keys(['menus', 'stats'])\n"
       ]
      }
     ],
     "prompt_number": 9
    },
    {
     "cell_type": "code",
     "collapsed": false,
     "input": [
      "data_as_dicts[0]['stats']"
     ],
     "language": "python",
     "metadata": {},
     "outputs": [
      {
       "metadata": {},
       "output_type": "pyout",
       "prompt_number": 12,
       "text": [
        "{'complete': 7242,\n",
        " 'count': 12269,\n",
        " 'earliest_menu': 1851,\n",
        " 'latest_menu': 1921,\n",
        " 'to_transcribe': 0,\n",
        " 'under_review': 5027,\n",
        " 'years_spanned': [1851,\n",
        "  1852,\n",
        "  1853,\n",
        "  1854,\n",
        "  1855,\n",
        "  1856,\n",
        "  1857,\n",
        "  1858,\n",
        "  1859,\n",
        "  1861,\n",
        "  1862,\n",
        "  1864,\n",
        "  1865,\n",
        "  1866,\n",
        "  1869,\n",
        "  1873,\n",
        "  1880,\n",
        "  1881,\n",
        "  1882,\n",
        "  1883,\n",
        "  1884,\n",
        "  1885,\n",
        "  1886,\n",
        "  1887,\n",
        "  1888,\n",
        "  1889,\n",
        "  1890,\n",
        "  1891,\n",
        "  1892,\n",
        "  1893,\n",
        "  1894,\n",
        "  1895,\n",
        "  1896,\n",
        "  1897,\n",
        "  1898,\n",
        "  1899,\n",
        "  1900,\n",
        "  1901,\n",
        "  1904,\n",
        "  1905,\n",
        "  1906,\n",
        "  1907,\n",
        "  1908,\n",
        "  1909,\n",
        "  1910,\n",
        "  1912,\n",
        "  1913,\n",
        "  1914,\n",
        "  1915,\n",
        "  1916,\n",
        "  1917,\n",
        "  1918,\n",
        "  1919,\n",
        "  1920,\n",
        "  1921]}"
       ]
      }
     ],
     "prompt_number": 12
    },
    {
     "cell_type": "markdown",
     "metadata": {},
     "source": [
      "Pull out the data about menus from the API response and reshape it a bit to make it easier to work with"
     ]
    },
    {
     "cell_type": "code",
     "collapsed": false,
     "input": [
      "aggregate_menu_data = []\n",
      "\n",
      "for datadict in data_as_dicts:\n",
      "    menulist = datadict['menus']\n",
      "    for menu in menulist:\n",
      "       aggregate_menu_data.append(menu)"
     ],
     "language": "python",
     "metadata": {},
     "outputs": [],
     "prompt_number": 13
    },
    {
     "cell_type": "markdown",
     "metadata": {},
     "source": [
      "Sanity check to make sure that each item in the new dictionary appears to represent one menu"
     ]
    },
    {
     "cell_type": "code",
     "collapsed": false,
     "input": [
      "aggregate_menu_data[0]"
     ],
     "language": "python",
     "metadata": {},
     "outputs": [
      {
       "metadata": {},
       "output_type": "pyout",
       "prompt_number": 14,
       "text": [
        "{'call_number': '1921-0063_wotm',\n",
        " 'currency': 'Dollars',\n",
        " 'currency_symbol': '$',\n",
        " 'day': 6,\n",
        " 'dish_count': 127,\n",
        " 'event': None,\n",
        " 'first_page_aspect': 'portrait',\n",
        " 'first_page_full_height': 4950,\n",
        " 'first_page_full_width': 3065,\n",
        " 'id': 31882,\n",
        " 'keywords': None,\n",
        " 'language': None,\n",
        " 'large_src': 'http://images.nypl.org/index.php?id=4025985&t=w',\n",
        " 'large_src_jp2': 'http://j2k.repo.nypl.org/adore-djatoka/resolver?url_ver=Z39.88-2004&rft_id=urn:uuid:be7377da-269d-0f75-e040-e00a18060667&svc_id=info:lanl-repo/svc/getRegion&svc_val_fmt=info:ofi/fmt:kev:mtx:jpeg2000&svc.format=image/jpeg&svc.scale=1800,0&svc.rotate=0',\n",
        " 'links': [{'href': 'http://menus.nypl.org/api/menus/31882', 'rel': 'self'},\n",
        "  {'href': 'http://menus.nypl.org/api/menus/31882/pages', 'rel': 'pages'},\n",
        "  {'href': 'http://menus.nypl.org/api/menus/31882/dishes', 'rel': 'dishes'}],\n",
        " 'location': 'The Chateau   Lake Louise',\n",
        " 'location_type': None,\n",
        " 'month': 7,\n",
        " 'name': '',\n",
        " 'notes': '',\n",
        " 'occasion': None,\n",
        " 'page_count': 2,\n",
        " 'physical_description': '28x17cm',\n",
        " 'place': None,\n",
        " 'sponsor': 'The Chateau   Lake Louise',\n",
        " 'status': 'under review',\n",
        " 'thumbnail_src': 'http://images.nypl.org/index.php?id=4025985&t=r',\n",
        " 'thumbnail_src_jp2': 'http://j2k.repo.nypl.org/adore-djatoka/resolver?url_ver=Z39.88-2004&rft_id=urn:uuid:be7377da-269d-0f75-e040-e00a18060667&svc_id=info:lanl-repo/svc/getRegion&svc_val_fmt=info:ofi/fmt:kev:mtx:jpeg2000&svc.format=image/jpeg&svc.scale=108,108&svc.region=1182,240,2585,2585&svc.rotate=0',\n",
        " 'venue': None,\n",
        " 'year': 1921}"
       ]
      }
     ],
     "prompt_number": 14
    },
    {
     "cell_type": "code",
     "collapsed": false,
     "input": [
      "len(aggregate_menu_data)"
     ],
     "language": "python",
     "metadata": {},
     "outputs": [
      {
       "metadata": {},
       "output_type": "pyout",
       "prompt_number": 15,
       "text": [
        "12250"
       ]
      }
     ],
     "prompt_number": 15
    },
    {
     "cell_type": "markdown",
     "metadata": {},
     "source": [
      "Take the data from the API and put it into pandas to do further manipulation ..."
     ]
    },
    {
     "cell_type": "code",
     "collapsed": false,
     "input": [
      "import pandas as pd"
     ],
     "language": "python",
     "metadata": {},
     "outputs": [],
     "prompt_number": 16
    },
    {
     "cell_type": "markdown",
     "metadata": {},
     "source": [
      "We can build a dataframe directly from the JSON we received back from the server"
     ]
    },
    {
     "cell_type": "code",
     "collapsed": false,
     "input": [
      "api_df = pd.read_json(json.dumps(aggregate_menu_data), orient='records',)"
     ],
     "language": "python",
     "metadata": {},
     "outputs": [],
     "prompt_number": 17
    },
    {
     "cell_type": "code",
     "collapsed": false,
     "input": [
      "api_df.head(2)"
     ],
     "language": "python",
     "metadata": {},
     "outputs": [
      {
       "html": [
        "<div style=\"max-height:1000px;max-width:1500px;overflow:auto;\">\n",
        "<table border=\"1\" class=\"dataframe\">\n",
        "  <thead>\n",
        "    <tr style=\"text-align: right;\">\n",
        "      <th></th>\n",
        "      <th>call_number</th>\n",
        "      <th>currency</th>\n",
        "      <th>currency_symbol</th>\n",
        "      <th>day</th>\n",
        "      <th>dish_count</th>\n",
        "      <th>event</th>\n",
        "      <th>first_page_aspect</th>\n",
        "      <th>first_page_full_height</th>\n",
        "      <th>first_page_full_width</th>\n",
        "      <th>id</th>\n",
        "      <th>keywords</th>\n",
        "      <th>language</th>\n",
        "      <th>large_src</th>\n",
        "      <th>large_src_jp2</th>\n",
        "      <th>links</th>\n",
        "      <th>location</th>\n",
        "      <th>location_type</th>\n",
        "      <th>month</th>\n",
        "      <th>name</th>\n",
        "      <th>notes</th>\n",
        "      <th></th>\n",
        "    </tr>\n",
        "  </thead>\n",
        "  <tbody>\n",
        "    <tr>\n",
        "      <th>0</th>\n",
        "      <td> 1921-0063_wotm</td>\n",
        "      <td>          Dollars</td>\n",
        "      <td>  $</td>\n",
        "      <td> 6</td>\n",
        "      <td> 127</td>\n",
        "      <td> None</td>\n",
        "      <td> portrait</td>\n",
        "      <td> 4950</td>\n",
        "      <td> 3065</td>\n",
        "      <td> 31882</td>\n",
        "      <td>NaN</td>\n",
        "      <td>NaN</td>\n",
        "      <td> http://images.nypl.org/index.php?id=4025985&amp;t=w</td>\n",
        "      <td> http://j2k.repo.nypl.org/adore-djatoka/resolve...</td>\n",
        "      <td> [{'rel': 'self', 'href': 'http://menus.nypl.or...</td>\n",
        "      <td> The Chateau   Lake Louise</td>\n",
        "      <td>NaN</td>\n",
        "      <td> 7</td>\n",
        "      <td>     </td>\n",
        "      <td> </td>\n",
        "      <td>...</td>\n",
        "    </tr>\n",
        "    <tr>\n",
        "      <th>1</th>\n",
        "      <td> 1921-0064_wotm</td>\n",
        "      <td> Canadian Dollars</td>\n",
        "      <td> C$</td>\n",
        "      <td> 6</td>\n",
        "      <td>  99</td>\n",
        "      <td> None</td>\n",
        "      <td> portrait</td>\n",
        "      <td> 4480</td>\n",
        "      <td> 2919</td>\n",
        "      <td> 31883</td>\n",
        "      <td>NaN</td>\n",
        "      <td>NaN</td>\n",
        "      <td> http://images.nypl.org/index.php?id=4025987&amp;t=w</td>\n",
        "      <td> http://j2k.repo.nypl.org/adore-djatoka/resolve...</td>\n",
        "      <td> [{'rel': 'self', 'href': 'http://menus.nypl.or...</td>\n",
        "      <td>          Canadian Pacific</td>\n",
        "      <td>NaN</td>\n",
        "      <td> 7</td>\n",
        "      <td> None</td>\n",
        "      <td> </td>\n",
        "      <td>...</td>\n",
        "    </tr>\n",
        "  </tbody>\n",
        "</table>\n",
        "<p>2 rows \u00d7 30 columns</p>\n",
        "</div>"
       ],
       "metadata": {},
       "output_type": "pyout",
       "prompt_number": 18,
       "text": [
        "      call_number          currency currency_symbol  day  dish_count event  \\\n",
        "0  1921-0063_wotm           Dollars               $    6         127  None   \n",
        "1  1921-0064_wotm  Canadian Dollars              C$    6          99  None   \n",
        "\n",
        "  first_page_aspect  first_page_full_height  first_page_full_width     id  \\\n",
        "0          portrait                    4950                   3065  31882   \n",
        "1          portrait                    4480                   2919  31883   \n",
        "\n",
        "   keywords  language                                        large_src  \\\n",
        "0       NaN       NaN  http://images.nypl.org/index.php?id=4025985&t=w   \n",
        "1       NaN       NaN  http://images.nypl.org/index.php?id=4025987&t=w   \n",
        "\n",
        "                                       large_src_jp2  \\\n",
        "0  http://j2k.repo.nypl.org/adore-djatoka/resolve...   \n",
        "1  http://j2k.repo.nypl.org/adore-djatoka/resolve...   \n",
        "\n",
        "                                               links  \\\n",
        "0  [{'rel': 'self', 'href': 'http://menus.nypl.or...   \n",
        "1  [{'rel': 'self', 'href': 'http://menus.nypl.or...   \n",
        "\n",
        "                    location  location_type  month  name notes      \n",
        "0  The Chateau   Lake Louise            NaN      7             ...  \n",
        "1           Canadian Pacific            NaN      7  None       ...  \n",
        "\n",
        "[2 rows x 30 columns]"
       ]
      }
     ],
     "prompt_number": 18
    },
    {
     "cell_type": "code",
     "collapsed": false,
     "input": [
      "api_df.info()"
     ],
     "language": "python",
     "metadata": {},
     "outputs": [
      {
       "output_type": "stream",
       "stream": "stdout",
       "text": [
        "<class 'pandas.core.frame.DataFrame'>\n",
        "Int64Index: 12250 entries, 0 to 12249\n",
        "Data columns (total 30 columns):\n",
        "call_number               10619 non-null object\n",
        "currency                  3527 non-null object\n",
        "currency_symbol           3527 non-null object\n",
        "day                       12241 non-null float64\n",
        "dish_count                12250 non-null int64\n",
        "event                     7501 non-null object\n",
        "first_page_aspect         12250 non-null object\n",
        "first_page_full_height    12250 non-null int64\n",
        "first_page_full_width     12250 non-null int64\n",
        "id                        12250 non-null int64\n",
        "keywords                  0 non-null float64\n",
        "language                  0 non-null float64\n",
        "large_src                 12250 non-null object\n",
        "large_src_jp2             12250 non-null object\n",
        "links                     12250 non-null object\n",
        "location                  12250 non-null object\n",
        "location_type             0 non-null float64\n",
        "month                     12244 non-null float64\n",
        "name                      6641 non-null object\n",
        "notes                     10546 non-null object\n",
        "occasion                  7326 non-null object\n",
        "page_count                12250 non-null int64\n",
        "physical_description      10546 non-null object\n",
        "place                     7326 non-null object\n",
        "sponsor                   10619 non-null object\n",
        "status                    12250 non-null object\n",
        "thumbnail_src             12250 non-null object\n",
        "thumbnail_src_jp2         12250 non-null object\n",
        "venue                     7326 non-null object\n",
        "year                      12250 non-null int64\n",
        "dtypes: float64(5), int64(6), object(19)"
       ]
      }
     ],
     "prompt_number": 19
    },
    {
     "cell_type": "markdown",
     "metadata": {},
     "source": [
      "Save the results from the API to a CSV file before we make any more changes ..."
     ]
    },
    {
     "cell_type": "code",
     "collapsed": false,
     "input": [
      "api_df.to_csv('../data/menus_1851_to_1921_from_api.csv')"
     ],
     "language": "python",
     "metadata": {},
     "outputs": [],
     "prompt_number": 20
    },
    {
     "cell_type": "markdown",
     "metadata": {},
     "source": [
      "When you create a dataframe from JSON, there isn't a way to set a particular key to use as an index. So, re-index the dataframe by id number"
     ]
    },
    {
     "cell_type": "code",
     "collapsed": false,
     "input": [
      "menus_from_api_df = api_df.set_index('id')"
     ],
     "language": "python",
     "metadata": {},
     "outputs": [],
     "prompt_number": 21
    },
    {
     "cell_type": "markdown",
     "metadata": {},
     "source": [
      "Delete some unused and unwanted columns \u2026"
     ]
    },
    {
     "cell_type": "code",
     "collapsed": false,
     "input": [
      "del menus_from_api_df['location_type']\n",
      "del menus_from_api_df['language']\n",
      "del menus_from_api_df['keywords']\n",
      "del menus_from_api_df['currency']\n",
      "del menus_from_api_df['currency_symbol']\n",
      "del menus_from_api_df['first_page_aspect']\n",
      "del menus_from_api_df['first_page_full_height']\n",
      "del menus_from_api_df['first_page_full_width']"
     ],
     "language": "python",
     "metadata": {},
     "outputs": [],
     "prompt_number": 22
    },
    {
     "cell_type": "code",
     "collapsed": false,
     "input": [
      "del menus_from_api_df['status']"
     ],
     "language": "python",
     "metadata": {},
     "outputs": [],
     "prompt_number": 23
    },
    {
     "cell_type": "code",
     "collapsed": false,
     "input": [
      "menus_from_api_df.head(2)"
     ],
     "language": "python",
     "metadata": {},
     "outputs": [
      {
       "html": [
        "<div style=\"max-height:1000px;max-width:1500px;overflow:auto;\">\n",
        "<table border=\"1\" class=\"dataframe\">\n",
        "  <thead>\n",
        "    <tr style=\"text-align: right;\">\n",
        "      <th></th>\n",
        "      <th>call_number</th>\n",
        "      <th>day</th>\n",
        "      <th>dish_count</th>\n",
        "      <th>event</th>\n",
        "      <th>large_src</th>\n",
        "      <th>large_src_jp2</th>\n",
        "      <th>links</th>\n",
        "      <th>location</th>\n",
        "      <th>month</th>\n",
        "      <th>name</th>\n",
        "      <th>notes</th>\n",
        "      <th>occasion</th>\n",
        "      <th>page_count</th>\n",
        "      <th>physical_description</th>\n",
        "      <th>place</th>\n",
        "      <th>sponsor</th>\n",
        "      <th>thumbnail_src</th>\n",
        "      <th>thumbnail_src_jp2</th>\n",
        "      <th>venue</th>\n",
        "      <th>year</th>\n",
        "    </tr>\n",
        "    <tr>\n",
        "      <th>id</th>\n",
        "      <th></th>\n",
        "      <th></th>\n",
        "      <th></th>\n",
        "      <th></th>\n",
        "      <th></th>\n",
        "      <th></th>\n",
        "      <th></th>\n",
        "      <th></th>\n",
        "      <th></th>\n",
        "      <th></th>\n",
        "      <th></th>\n",
        "      <th></th>\n",
        "      <th></th>\n",
        "      <th></th>\n",
        "      <th></th>\n",
        "      <th></th>\n",
        "      <th></th>\n",
        "      <th></th>\n",
        "      <th></th>\n",
        "      <th></th>\n",
        "    </tr>\n",
        "  </thead>\n",
        "  <tbody>\n",
        "    <tr>\n",
        "      <th>31882</th>\n",
        "      <td> 1921-0063_wotm</td>\n",
        "      <td> 6</td>\n",
        "      <td> 127</td>\n",
        "      <td> None</td>\n",
        "      <td> http://images.nypl.org/index.php?id=4025985&amp;t=w</td>\n",
        "      <td> http://j2k.repo.nypl.org/adore-djatoka/resolve...</td>\n",
        "      <td> [{'rel': 'self', 'href': 'http://menus.nypl.or...</td>\n",
        "      <td> The Chateau   Lake Louise</td>\n",
        "      <td> 7</td>\n",
        "      <td>     </td>\n",
        "      <td> </td>\n",
        "      <td> None</td>\n",
        "      <td> 2</td>\n",
        "      <td>     28x17cm</td>\n",
        "      <td> None</td>\n",
        "      <td> The Chateau   Lake Louise</td>\n",
        "      <td> http://images.nypl.org/index.php?id=4025985&amp;t=r</td>\n",
        "      <td> http://j2k.repo.nypl.org/adore-djatoka/resolve...</td>\n",
        "      <td> None</td>\n",
        "      <td> 1921</td>\n",
        "    </tr>\n",
        "    <tr>\n",
        "      <th>31883</th>\n",
        "      <td> 1921-0064_wotm</td>\n",
        "      <td> 6</td>\n",
        "      <td>  99</td>\n",
        "      <td> None</td>\n",
        "      <td> http://images.nypl.org/index.php?id=4025987&amp;t=w</td>\n",
        "      <td> http://j2k.repo.nypl.org/adore-djatoka/resolve...</td>\n",
        "      <td> [{'rel': 'self', 'href': 'http://menus.nypl.or...</td>\n",
        "      <td>          Canadian Pacific</td>\n",
        "      <td> 7</td>\n",
        "      <td> None</td>\n",
        "      <td> </td>\n",
        "      <td> None</td>\n",
        "      <td> 1</td>\n",
        "      <td> 25.5x16.5cm</td>\n",
        "      <td> None</td>\n",
        "      <td>          Canadian Pacific</td>\n",
        "      <td> http://images.nypl.org/index.php?id=4025987&amp;t=r</td>\n",
        "      <td> http://j2k.repo.nypl.org/adore-djatoka/resolve...</td>\n",
        "      <td> None</td>\n",
        "      <td> 1921</td>\n",
        "    </tr>\n",
        "  </tbody>\n",
        "</table>\n",
        "<p>2 rows \u00d7 20 columns</p>\n",
        "</div>"
       ],
       "metadata": {},
       "output_type": "pyout",
       "prompt_number": 24,
       "text": [
        "          call_number  day  dish_count event  \\\n",
        "id                                             \n",
        "31882  1921-0063_wotm    6         127  None   \n",
        "31883  1921-0064_wotm    6          99  None   \n",
        "\n",
        "                                             large_src  \\\n",
        "id                                                       \n",
        "31882  http://images.nypl.org/index.php?id=4025985&t=w   \n",
        "31883  http://images.nypl.org/index.php?id=4025987&t=w   \n",
        "\n",
        "                                           large_src_jp2  \\\n",
        "id                                                         \n",
        "31882  http://j2k.repo.nypl.org/adore-djatoka/resolve...   \n",
        "31883  http://j2k.repo.nypl.org/adore-djatoka/resolve...   \n",
        "\n",
        "                                                   links  \\\n",
        "id                                                         \n",
        "31882  [{'rel': 'self', 'href': 'http://menus.nypl.or...   \n",
        "31883  [{'rel': 'self', 'href': 'http://menus.nypl.or...   \n",
        "\n",
        "                        location  month  name notes occasion  page_count  \\\n",
        "id                                                                         \n",
        "31882  The Chateau   Lake Louise      7                 None           2   \n",
        "31883           Canadian Pacific      7  None           None           1   \n",
        "\n",
        "      physical_description place                    sponsor  \\\n",
        "id                                                            \n",
        "31882              28x17cm  None  The Chateau   Lake Louise   \n",
        "31883          25.5x16.5cm  None           Canadian Pacific   \n",
        "\n",
        "                                         thumbnail_src  \\\n",
        "id                                                       \n",
        "31882  http://images.nypl.org/index.php?id=4025985&t=r   \n",
        "31883  http://images.nypl.org/index.php?id=4025987&t=r   \n",
        "\n",
        "                                       thumbnail_src_jp2 venue  year  \n",
        "id                                                                    \n",
        "31882  http://j2k.repo.nypl.org/adore-djatoka/resolve...  None  1921  \n",
        "31883  http://j2k.repo.nypl.org/adore-djatoka/resolve...  None  1921  \n",
        "\n",
        "[2 rows x 20 columns]"
       ]
      }
     ],
     "prompt_number": 24
    },
    {
     "cell_type": "markdown",
     "metadata": {},
     "source": [
      "Print out the column names so they can be re-ordered (more for convenience than anything else)"
     ]
    },
    {
     "cell_type": "code",
     "collapsed": false,
     "input": [
      "column_names_orig = menus_from_api_df.columns.tolist()"
     ],
     "language": "python",
     "metadata": {},
     "outputs": [],
     "prompt_number": 25
    },
    {
     "cell_type": "code",
     "collapsed": false,
     "input": [
      "print(column_names_orig)"
     ],
     "language": "python",
     "metadata": {},
     "outputs": [
      {
       "output_type": "stream",
       "stream": "stdout",
       "text": [
        "['call_number', 'day', 'dish_count', 'event', 'large_src', 'large_src_jp2', 'links', 'location', 'month', 'name', 'notes', 'occasion', 'page_count', 'physical_description', 'place', 'sponsor', 'thumbnail_src', 'thumbnail_src_jp2', 'venue', 'year']\n"
       ]
      }
     ],
     "prompt_number": 26
    },
    {
     "cell_type": "code",
     "collapsed": false,
     "input": [
      "column_names_new = ['call_number', 'sponsor', 'location', 'name', 'year', 'month', 'day', 'page_count', 'dish_count', 'place', 'event', 'occasion', 'venue', 'physical_description', 'notes', 'links', 'thumbnail_src', 'thumbnail_src_jp2', 'large_src', 'large_src_jp2']"
     ],
     "language": "python",
     "metadata": {},
     "outputs": [],
     "prompt_number": 27
    },
    {
     "cell_type": "code",
     "collapsed": false,
     "input": [
      "menus_from_api_df = menus_from_api_df[column_names_new]"
     ],
     "language": "python",
     "metadata": {},
     "outputs": [],
     "prompt_number": 28
    },
    {
     "cell_type": "code",
     "collapsed": false,
     "input": [
      "menus_from_api_df.head(2)"
     ],
     "language": "python",
     "metadata": {},
     "outputs": [
      {
       "html": [
        "<div style=\"max-height:1000px;max-width:1500px;overflow:auto;\">\n",
        "<table border=\"1\" class=\"dataframe\">\n",
        "  <thead>\n",
        "    <tr style=\"text-align: right;\">\n",
        "      <th></th>\n",
        "      <th>call_number</th>\n",
        "      <th>sponsor</th>\n",
        "      <th>location</th>\n",
        "      <th>name</th>\n",
        "      <th>year</th>\n",
        "      <th>month</th>\n",
        "      <th>day</th>\n",
        "      <th>page_count</th>\n",
        "      <th>dish_count</th>\n",
        "      <th>place</th>\n",
        "      <th>event</th>\n",
        "      <th>occasion</th>\n",
        "      <th>venue</th>\n",
        "      <th>physical_description</th>\n",
        "      <th>notes</th>\n",
        "      <th>links</th>\n",
        "      <th>thumbnail_src</th>\n",
        "      <th>thumbnail_src_jp2</th>\n",
        "      <th>large_src</th>\n",
        "      <th>large_src_jp2</th>\n",
        "    </tr>\n",
        "    <tr>\n",
        "      <th>id</th>\n",
        "      <th></th>\n",
        "      <th></th>\n",
        "      <th></th>\n",
        "      <th></th>\n",
        "      <th></th>\n",
        "      <th></th>\n",
        "      <th></th>\n",
        "      <th></th>\n",
        "      <th></th>\n",
        "      <th></th>\n",
        "      <th></th>\n",
        "      <th></th>\n",
        "      <th></th>\n",
        "      <th></th>\n",
        "      <th></th>\n",
        "      <th></th>\n",
        "      <th></th>\n",
        "      <th></th>\n",
        "      <th></th>\n",
        "      <th></th>\n",
        "    </tr>\n",
        "  </thead>\n",
        "  <tbody>\n",
        "    <tr>\n",
        "      <th>31882</th>\n",
        "      <td> 1921-0063_wotm</td>\n",
        "      <td> The Chateau   Lake Louise</td>\n",
        "      <td> The Chateau   Lake Louise</td>\n",
        "      <td>     </td>\n",
        "      <td> 1921</td>\n",
        "      <td> 7</td>\n",
        "      <td> 6</td>\n",
        "      <td> 2</td>\n",
        "      <td> 127</td>\n",
        "      <td> None</td>\n",
        "      <td> None</td>\n",
        "      <td> None</td>\n",
        "      <td> None</td>\n",
        "      <td>     28x17cm</td>\n",
        "      <td> </td>\n",
        "      <td> [{'rel': 'self', 'href': 'http://menus.nypl.or...</td>\n",
        "      <td> http://images.nypl.org/index.php?id=4025985&amp;t=r</td>\n",
        "      <td> http://j2k.repo.nypl.org/adore-djatoka/resolve...</td>\n",
        "      <td> http://images.nypl.org/index.php?id=4025985&amp;t=w</td>\n",
        "      <td> http://j2k.repo.nypl.org/adore-djatoka/resolve...</td>\n",
        "    </tr>\n",
        "    <tr>\n",
        "      <th>31883</th>\n",
        "      <td> 1921-0064_wotm</td>\n",
        "      <td>          Canadian Pacific</td>\n",
        "      <td>          Canadian Pacific</td>\n",
        "      <td> None</td>\n",
        "      <td> 1921</td>\n",
        "      <td> 7</td>\n",
        "      <td> 6</td>\n",
        "      <td> 1</td>\n",
        "      <td>  99</td>\n",
        "      <td> None</td>\n",
        "      <td> None</td>\n",
        "      <td> None</td>\n",
        "      <td> None</td>\n",
        "      <td> 25.5x16.5cm</td>\n",
        "      <td> </td>\n",
        "      <td> [{'rel': 'self', 'href': 'http://menus.nypl.or...</td>\n",
        "      <td> http://images.nypl.org/index.php?id=4025987&amp;t=r</td>\n",
        "      <td> http://j2k.repo.nypl.org/adore-djatoka/resolve...</td>\n",
        "      <td> http://images.nypl.org/index.php?id=4025987&amp;t=w</td>\n",
        "      <td> http://j2k.repo.nypl.org/adore-djatoka/resolve...</td>\n",
        "    </tr>\n",
        "  </tbody>\n",
        "</table>\n",
        "<p>2 rows \u00d7 20 columns</p>\n",
        "</div>"
       ],
       "metadata": {},
       "output_type": "pyout",
       "prompt_number": 29,
       "text": [
        "          call_number                    sponsor                   location  \\\n",
        "id                                                                            \n",
        "31882  1921-0063_wotm  The Chateau   Lake Louise  The Chateau   Lake Louise   \n",
        "31883  1921-0064_wotm           Canadian Pacific           Canadian Pacific   \n",
        "\n",
        "       name  year  month  day  page_count  dish_count place event occasion  \\\n",
        "id                                                                           \n",
        "31882        1921      7    6           2         127  None  None     None   \n",
        "31883  None  1921      7    6           1          99  None  None     None   \n",
        "\n",
        "      venue physical_description notes  \\\n",
        "id                                       \n",
        "31882  None              28x17cm         \n",
        "31883  None          25.5x16.5cm         \n",
        "\n",
        "                                                   links  \\\n",
        "id                                                         \n",
        "31882  [{'rel': 'self', 'href': 'http://menus.nypl.or...   \n",
        "31883  [{'rel': 'self', 'href': 'http://menus.nypl.or...   \n",
        "\n",
        "                                         thumbnail_src  \\\n",
        "id                                                       \n",
        "31882  http://images.nypl.org/index.php?id=4025985&t=r   \n",
        "31883  http://images.nypl.org/index.php?id=4025987&t=r   \n",
        "\n",
        "                                       thumbnail_src_jp2  \\\n",
        "id                                                         \n",
        "31882  http://j2k.repo.nypl.org/adore-djatoka/resolve...   \n",
        "31883  http://j2k.repo.nypl.org/adore-djatoka/resolve...   \n",
        "\n",
        "                                             large_src  \\\n",
        "id                                                       \n",
        "31882  http://images.nypl.org/index.php?id=4025985&t=w   \n",
        "31883  http://images.nypl.org/index.php?id=4025987&t=w   \n",
        "\n",
        "                                           large_src_jp2  \n",
        "id                                                        \n",
        "31882  http://j2k.repo.nypl.org/adore-djatoka/resolve...  \n",
        "31883  http://j2k.repo.nypl.org/adore-djatoka/resolve...  \n",
        "\n",
        "[2 rows x 20 columns]"
       ]
      }
     ],
     "prompt_number": 29
    },
    {
     "cell_type": "markdown",
     "metadata": {},
     "source": [
      "Save this version to a CSV file"
     ]
    },
    {
     "cell_type": "code",
     "collapsed": false,
     "input": [
      "menus_from_api_df.to_csv('../data/menus_1851_to_1921_from_api-trimmed.csv')"
     ],
     "language": "python",
     "metadata": {},
     "outputs": [],
     "prompt_number": 30
    },
    {
     "cell_type": "code",
     "collapsed": false,
     "input": [
      "menus_from_api_df.info()"
     ],
     "language": "python",
     "metadata": {},
     "outputs": [
      {
       "output_type": "stream",
       "stream": "stdout",
       "text": [
        "<class 'pandas.core.frame.DataFrame'>\n",
        "Int64Index: 12250 entries, 31882 to 24535\n",
        "Data columns (total 20 columns):\n",
        "call_number             10619 non-null object\n",
        "sponsor                 10619 non-null object\n",
        "location                12250 non-null object\n",
        "name                    6641 non-null object\n",
        "year                    12250 non-null int64\n",
        "month                   12244 non-null float64\n",
        "day                     12241 non-null float64\n",
        "page_count              12250 non-null int64\n",
        "dish_count              12250 non-null int64\n",
        "place                   7326 non-null object\n",
        "event                   7501 non-null object\n",
        "occasion                7326 non-null object\n",
        "venue                   7326 non-null object\n",
        "physical_description    10546 non-null object\n",
        "notes                   10546 non-null object\n",
        "links                   12250 non-null object\n",
        "thumbnail_src           12250 non-null object\n",
        "thumbnail_src_jp2       12250 non-null object\n",
        "large_src               12250 non-null object\n",
        "large_src_jp2           12250 non-null object\n",
        "dtypes: float64(2), int64(3), object(15)"
       ]
      }
     ],
     "prompt_number": 31
    },
    {
     "cell_type": "markdown",
     "metadata": {},
     "source": [
      "There we have it. A subset of the *What's on the Menu?* data to use in our research"
     ]
    }
   ],
   "metadata": {}
  }
 ]
}