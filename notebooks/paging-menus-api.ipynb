{
 "metadata": {
  "name": "",
  "signature": "sha256:9f6407cffbd8616139e3598866f35a2c15ec5d0b4c21f2f444ba03f2e511d6e1"
 },
 "nbformat": 3,
 "nbformat_minor": 0,
 "worksheets": [
  {
   "cells": [
    {
     "cell_type": "heading",
     "level": 1,
     "metadata": {},
     "source": [
      "Downloading Data from the *What's on the Menu* API"
     ]
    },
    {
     "cell_type": "code",
     "collapsed": false,
     "input": [
      "import os\n",
      "import json\n",
      "from time import sleep\n",
      "import logging\n",
      "\n",
      "# http://docs.python-requests.org/en/latest/\n",
      "import requests"
     ],
     "language": "python",
     "metadata": {},
     "outputs": [],
     "prompt_number": 5
    },
    {
     "cell_type": "markdown",
     "metadata": {},
     "source": [
      "Set up a session object so we don't have to put the same parameters on every request"
     ]
    },
    {
     "cell_type": "code",
     "collapsed": false,
     "input": [
      "sess = requests.Session()\n",
      "sess.params.update({'token' : os.environ['MENUS_API_KEY'], 'max_year': '1922',\n",
      " 'min_year': '1851'})"
     ],
     "language": "python",
     "metadata": {},
     "outputs": [],
     "prompt_number": 2
    },
    {
     "cell_type": "code",
     "collapsed": false,
     "input": [
      "seed_url = 'http://api.menus.nypl.org/menus'\n",
      "\n",
      "r = sess.get(seed_url)"
     ],
     "language": "python",
     "metadata": {},
     "outputs": [],
     "prompt_number": 3
    },
    {
     "cell_type": "markdown",
     "metadata": {},
     "source": [
      "Since things can go wrong talking to remote systems, we should set up a log file to keep an eye on things ... in truth, I'm largely copying and pasting this code"
     ]
    },
    {
     "cell_type": "code",
     "collapsed": false,
     "input": [
      "logger = logging.getLogger(\"menus\")\n",
      "logger.setLevel(20)\n",
      "loggerFileHandler = logging.FileHandler(\"menus.log\")\n",
      "loggerFileHandler.setLevel(20)\n",
      "loggerFormatter = logging.Formatter('%(asctime)s - %(name)s - %(levelname)s - %(message)s')\n",
      "loggerFileHandler.setFormatter(loggerFormatter)\n",
      "logger.addHandler(loggerFileHandler)"
     ],
     "language": "python",
     "metadata": {},
     "outputs": []
    },
    {
     "cell_type": "markdown",
     "metadata": {},
     "source": [
      "Here's where the work really happens. ... Cheating a bit because I looked at the link headers of the first request to figure out that there were 245 pages of results so I didn't have to parse that next page link out each time. Append the content of each API response to a list."
     ]
    },
    {
     "cell_type": "code",
     "collapsed": false,
     "input": [
      "data = []\n",
      "\n",
      "for x in range(1,246):\n",
      "    r = sess.get(seed_url, params={'page' : x})\n",
      "    data.append(r.content)\n",
      "    logger.info(\"Processed: {0}. Status: {1}\".format(r.request.url, r.status_code))\n",
      "    sleep(0.5)"
     ],
     "language": "python",
     "metadata": {},
     "outputs": [],
     "prompt_number": 10
    },
    {
     "cell_type": "code",
     "collapsed": false,
     "input": [
      "len(data)"
     ],
     "language": "python",
     "metadata": {},
     "outputs": [
      {
       "metadata": {},
       "output_type": "pyout",
       "prompt_number": 11,
       "text": [
        "245"
       ]
      }
     ],
     "prompt_number": 11
    },
    {
     "cell_type": "markdown",
     "metadata": {},
     "source": [
      "The API returns JSON but when it comes over the wire it comes back as byte strings, so we have to turn it back into JSON objects"
     ]
    },
    {
     "cell_type": "code",
     "collapsed": false,
     "input": [
      "data_as_dicts = [json.loads(d.decode()) for d in data]"
     ],
     "language": "python",
     "metadata": {},
     "outputs": [],
     "prompt_number": 15
    },
    {
     "cell_type": "markdown",
     "metadata": {},
     "source": [
      "Inspecting the data a bit to see exactly what we got ..."
     ]
    },
    {
     "cell_type": "code",
     "collapsed": false,
     "input": [
      "print(data_as_dicts[0].keys())"
     ],
     "language": "python",
     "metadata": {},
     "outputs": [
      {
       "output_type": "stream",
       "stream": "stdout",
       "text": [
        "dict_keys(['menus', 'stats'])\n"
       ]
      }
     ],
     "prompt_number": 17
    },
    {
     "cell_type": "code",
     "collapsed": false,
     "input": [
      "type(data_as_dicts[0]['menus'][0])"
     ],
     "language": "python",
     "metadata": {},
     "outputs": [
      {
       "metadata": {},
       "output_type": "pyout",
       "prompt_number": 23,
       "text": [
        "builtins.dict"
       ]
      }
     ],
     "prompt_number": 23
    },
    {
     "cell_type": "code",
     "collapsed": false,
     "input": [
      "aggregate_menu_data = []\n",
      "\n",
      "for datadict in data_as_dicts:\n",
      "    menulist = datadict['menus']\n",
      "    for menu in menulist:\n",
      "       aggregate_menu_data.append(menu)"
     ],
     "language": "python",
     "metadata": {},
     "outputs": [],
     "prompt_number": 32
    },
    {
     "cell_type": "markdown",
     "metadata": {},
     "source": [
      "Making sure that each item in the new dictionary is one menu object"
     ]
    },
    {
     "cell_type": "code",
     "collapsed": false,
     "input": [
      "aggregate_menu_data[0]"
     ],
     "language": "python",
     "metadata": {},
     "outputs": [
      {
       "metadata": {},
       "output_type": "pyout",
       "prompt_number": 33,
       "text": [
        "{'call_number': '1921-0021_wotm',\n",
        " 'currency': None,\n",
        " 'currency_symbol': None,\n",
        " 'day': 11,\n",
        " 'dish_count': 13,\n",
        " 'event': None,\n",
        " 'first_page_aspect': 'portrait',\n",
        " 'first_page_full_height': 5165,\n",
        " 'first_page_full_width': 3730,\n",
        " 'id': 31840,\n",
        " 'keywords': None,\n",
        " 'language': None,\n",
        " 'large_src': 'http://images.nypl.org/index.php?id=4025893&t=w',\n",
        " 'large_src_jp2': 'http://j2k.repo.nypl.org/adore-djatoka/resolver?url_ver=Z39.88-2004&rft_id=urn:uuid:be7377da-2641-0f75-e040-e00a18060667&svc_id=info:lanl-repo/svc/getRegion&svc_val_fmt=info:ofi/fmt:kev:mtx:jpeg2000&svc.format=image/jpeg&svc.scale=1800,0&svc.rotate=0',\n",
        " 'links': [{'href': 'http://menus.nypl.org/api/menus/31840', 'rel': 'self'},\n",
        "  {'href': 'http://menus.nypl.org/api/menus/31840/pages', 'rel': 'pages'},\n",
        "  {'href': 'http://menus.nypl.org/api/menus/31840/dishes', 'rel': 'dishes'}],\n",
        " 'location': 'Hotel Commodore',\n",
        " 'location_type': None,\n",
        " 'month': 4,\n",
        " 'name': None,\n",
        " 'notes': \"The Authors' League of America\",\n",
        " 'occasion': None,\n",
        " 'page_count': 4,\n",
        " 'physical_description': '29x21cm folded; 29x42cm open',\n",
        " 'place': None,\n",
        " 'sponsor': 'Hotel Commodore',\n",
        " 'status': 'complete',\n",
        " 'thumbnail_src': 'http://images.nypl.org/index.php?id=4025893&t=r',\n",
        " 'thumbnail_src_jp2': 'http://j2k.repo.nypl.org/adore-djatoka/resolver?url_ver=Z39.88-2004&rft_id=urn:uuid:be7377da-2641-0f75-e040-e00a18060667&svc_id=info:lanl-repo/svc/getRegion&svc_val_fmt=info:ofi/fmt:kev:mtx:jpeg2000&svc.format=image/jpeg&svc.scale=108,108&svc.region=957,240,3250,3250&svc.rotate=0',\n",
        " 'venue': None,\n",
        " 'year': 1921}"
       ]
      }
     ],
     "prompt_number": 33
    },
    {
     "cell_type": "code",
     "collapsed": false,
     "input": [
      "len(aggregate_menu_data)"
     ],
     "language": "python",
     "metadata": {},
     "outputs": [
      {
       "metadata": {},
       "output_type": "pyout",
       "prompt_number": 34,
       "text": [
        "12246"
       ]
      }
     ],
     "prompt_number": 34
    },
    {
     "cell_type": "markdown",
     "metadata": {},
     "source": [
      "Take the data and put it into pandas to do further manipulation ..."
     ]
    },
    {
     "cell_type": "code",
     "collapsed": false,
     "input": [
      "import pandas as pd"
     ],
     "language": "python",
     "metadata": {},
     "outputs": [],
     "prompt_number": 35
    },
    {
     "cell_type": "code",
     "collapsed": false,
     "input": [
      "api_df = pd.read_json(json.dumps(aggregate_menu_data), orient='records',)"
     ],
     "language": "python",
     "metadata": {},
     "outputs": [],
     "prompt_number": 40
    },
    {
     "cell_type": "code",
     "collapsed": false,
     "input": [
      "api_df.head(2)"
     ],
     "language": "python",
     "metadata": {},
     "outputs": [
      {
       "html": [
        "<div style=\"max-height:1000px;max-width:1500px;overflow:auto;\">\n",
        "<table border=\"1\" class=\"dataframe\">\n",
        "  <thead>\n",
        "    <tr style=\"text-align: right;\">\n",
        "      <th></th>\n",
        "      <th>call_number</th>\n",
        "      <th>currency</th>\n",
        "      <th>currency_symbol</th>\n",
        "      <th>day</th>\n",
        "      <th>dish_count</th>\n",
        "      <th>event</th>\n",
        "      <th>first_page_aspect</th>\n",
        "      <th>first_page_full_height</th>\n",
        "      <th>first_page_full_width</th>\n",
        "      <th>id</th>\n",
        "      <th>keywords</th>\n",
        "      <th>language</th>\n",
        "      <th>large_src</th>\n",
        "      <th>large_src_jp2</th>\n",
        "      <th>links</th>\n",
        "      <th>location</th>\n",
        "      <th>location_type</th>\n",
        "      <th>month</th>\n",
        "      <th>name</th>\n",
        "      <th>notes</th>\n",
        "      <th></th>\n",
        "    </tr>\n",
        "  </thead>\n",
        "  <tbody>\n",
        "    <tr>\n",
        "      <th>0</th>\n",
        "      <td> 1921-0021_wotm</td>\n",
        "      <td>             None</td>\n",
        "      <td> None</td>\n",
        "      <td> 11</td>\n",
        "      <td> 13</td>\n",
        "      <td> None</td>\n",
        "      <td> portrait</td>\n",
        "      <td> 5165</td>\n",
        "      <td> 3730</td>\n",
        "      <td> 31840</td>\n",
        "      <td>NaN</td>\n",
        "      <td>NaN</td>\n",
        "      <td> http://images.nypl.org/index.php?id=4025893&amp;t=w</td>\n",
        "      <td> http://j2k.repo.nypl.org/adore-djatoka/resolve...</td>\n",
        "      <td> [{'rel': 'self', 'href': 'http://menus.nypl.or...</td>\n",
        "      <td>  Hotel Commodore</td>\n",
        "      <td>NaN</td>\n",
        "      <td> 4</td>\n",
        "      <td> None</td>\n",
        "      <td> The Authors' League of America</td>\n",
        "      <td>...</td>\n",
        "    </tr>\n",
        "    <tr>\n",
        "      <th>1</th>\n",
        "      <td> 1921-0064_wotm</td>\n",
        "      <td> Canadian Dollars</td>\n",
        "      <td>   C$</td>\n",
        "      <td>  6</td>\n",
        "      <td> 99</td>\n",
        "      <td> None</td>\n",
        "      <td> portrait</td>\n",
        "      <td> 4480</td>\n",
        "      <td> 2919</td>\n",
        "      <td> 31883</td>\n",
        "      <td>NaN</td>\n",
        "      <td>NaN</td>\n",
        "      <td> http://images.nypl.org/index.php?id=4025987&amp;t=w</td>\n",
        "      <td> http://j2k.repo.nypl.org/adore-djatoka/resolve...</td>\n",
        "      <td> [{'rel': 'self', 'href': 'http://menus.nypl.or...</td>\n",
        "      <td> Canadian Pacific</td>\n",
        "      <td>NaN</td>\n",
        "      <td> 7</td>\n",
        "      <td> None</td>\n",
        "      <td>                               </td>\n",
        "      <td>...</td>\n",
        "    </tr>\n",
        "  </tbody>\n",
        "</table>\n",
        "<p>2 rows \u00d7 30 columns</p>\n",
        "</div>"
       ],
       "metadata": {},
       "output_type": "pyout",
       "prompt_number": 41,
       "text": [
        "      call_number          currency currency_symbol  day  dish_count event  \\\n",
        "0  1921-0021_wotm              None            None   11          13  None   \n",
        "1  1921-0064_wotm  Canadian Dollars              C$    6          99  None   \n",
        "\n",
        "  first_page_aspect  first_page_full_height  first_page_full_width     id  \\\n",
        "0          portrait                    5165                   3730  31840   \n",
        "1          portrait                    4480                   2919  31883   \n",
        "\n",
        "   keywords  language                                        large_src  \\\n",
        "0       NaN       NaN  http://images.nypl.org/index.php?id=4025893&t=w   \n",
        "1       NaN       NaN  http://images.nypl.org/index.php?id=4025987&t=w   \n",
        "\n",
        "                                       large_src_jp2  \\\n",
        "0  http://j2k.repo.nypl.org/adore-djatoka/resolve...   \n",
        "1  http://j2k.repo.nypl.org/adore-djatoka/resolve...   \n",
        "\n",
        "                                               links          location  \\\n",
        "0  [{'rel': 'self', 'href': 'http://menus.nypl.or...   Hotel Commodore   \n",
        "1  [{'rel': 'self', 'href': 'http://menus.nypl.or...  Canadian Pacific   \n",
        "\n",
        "   location_type  month  name                           notes      \n",
        "0            NaN      4  None  The Authors' League of America ...  \n",
        "1            NaN      7  None                                 ...  \n",
        "\n",
        "[2 rows x 30 columns]"
       ]
      }
     ],
     "prompt_number": 41
    },
    {
     "cell_type": "code",
     "collapsed": false,
     "input": [
      "api_df.info()"
     ],
     "language": "python",
     "metadata": {},
     "outputs": [
      {
       "output_type": "stream",
       "stream": "stdout",
       "text": [
        "<class 'pandas.core.frame.DataFrame'>\n",
        "Int64Index: 12246 entries, 0 to 12245\n",
        "Data columns (total 30 columns):\n",
        "call_number               10620 non-null object\n",
        "currency                  3561 non-null object\n",
        "currency_symbol           3561 non-null object\n",
        "day                       12239 non-null float64\n",
        "dish_count                12246 non-null int64\n",
        "event                     7516 non-null object\n",
        "first_page_aspect         12246 non-null object\n",
        "first_page_full_height    12246 non-null int64\n",
        "first_page_full_width     12246 non-null int64\n",
        "id                        12246 non-null int64\n",
        "keywords                  0 non-null float64\n",
        "language                  0 non-null float64\n",
        "large_src                 12246 non-null object\n",
        "large_src_jp2             12246 non-null object\n",
        "links                     12246 non-null object\n",
        "location                  12246 non-null object\n",
        "location_type             0 non-null float64\n",
        "month                     12242 non-null float64\n",
        "name                      6586 non-null object\n",
        "notes                     10546 non-null object\n",
        "occasion                  7343 non-null object\n",
        "page_count                12246 non-null int64\n",
        "physical_description      10546 non-null object\n",
        "place                     7343 non-null object\n",
        "sponsor                   10620 non-null object\n",
        "status                    12246 non-null object\n",
        "thumbnail_src             12246 non-null object\n",
        "thumbnail_src_jp2         12246 non-null object\n",
        "venue                     7343 non-null object\n",
        "year                      12246 non-null int64\n",
        "dtypes: float64(5), int64(6), object(19)"
       ]
      }
     ],
     "prompt_number": 43
    },
    {
     "cell_type": "markdown",
     "metadata": {},
     "source": [
      "Save the results from the API to a CSV file before we make any more changes ..."
     ]
    },
    {
     "cell_type": "code",
     "collapsed": false,
     "input": [
      "api_df.to_csv('../data/menus_1851_to_1921_from_api.csv')"
     ],
     "language": "python",
     "metadata": {},
     "outputs": [],
     "prompt_number": 44
    },
    {
     "cell_type": "code",
     "collapsed": false,
     "input": [
      "menus_from_api_df = api_df"
     ],
     "language": "python",
     "metadata": {},
     "outputs": [],
     "prompt_number": 45
    },
    {
     "cell_type": "code",
     "collapsed": false,
     "input": [
      "del menus_from_api_df['location_type']\n",
      "del menus_from_api_df['language']\n",
      "del menus_from_api_df['keywords']\n",
      "del menus_from_api_df['currency']\n",
      "del menus_from_api_df['currency_symbol']\n",
      "del menus_from_api_df['first_page_aspect']\n",
      "del menus_from_api_df['first_page_full_height']\n",
      "del menus_from_api_df['first_page_full_width']"
     ],
     "language": "python",
     "metadata": {},
     "outputs": [],
     "prompt_number": 46
    },
    {
     "cell_type": "code",
     "collapsed": false,
     "input": [
      "del menus_from_api_df['status']"
     ],
     "language": "python",
     "metadata": {},
     "outputs": [],
     "prompt_number": 48
    },
    {
     "cell_type": "markdown",
     "metadata": {},
     "source": [
      "When you create a dataframe from JSON, there isn't a way to set a particular key to use as an index. So, re-index the dataframe by id number"
     ]
    },
    {
     "cell_type": "code",
     "collapsed": false,
     "input": [
      "menus_from_api_df.set_index('id', inplace=True)"
     ],
     "language": "python",
     "metadata": {},
     "outputs": [],
     "prompt_number": 49
    },
    {
     "cell_type": "code",
     "collapsed": false,
     "input": [
      "menus_from_api_df.head(2)"
     ],
     "language": "python",
     "metadata": {},
     "outputs": [
      {
       "html": [
        "<div style=\"max-height:1000px;max-width:1500px;overflow:auto;\">\n",
        "<table border=\"1\" class=\"dataframe\">\n",
        "  <thead>\n",
        "    <tr style=\"text-align: right;\">\n",
        "      <th></th>\n",
        "      <th>call_number</th>\n",
        "      <th>day</th>\n",
        "      <th>dish_count</th>\n",
        "      <th>event</th>\n",
        "      <th>large_src</th>\n",
        "      <th>large_src_jp2</th>\n",
        "      <th>links</th>\n",
        "      <th>location</th>\n",
        "      <th>month</th>\n",
        "      <th>name</th>\n",
        "      <th>notes</th>\n",
        "      <th>occasion</th>\n",
        "      <th>page_count</th>\n",
        "      <th>physical_description</th>\n",
        "      <th>place</th>\n",
        "      <th>sponsor</th>\n",
        "      <th>thumbnail_src</th>\n",
        "      <th>thumbnail_src_jp2</th>\n",
        "      <th>venue</th>\n",
        "      <th>year</th>\n",
        "    </tr>\n",
        "    <tr>\n",
        "      <th>id</th>\n",
        "      <th></th>\n",
        "      <th></th>\n",
        "      <th></th>\n",
        "      <th></th>\n",
        "      <th></th>\n",
        "      <th></th>\n",
        "      <th></th>\n",
        "      <th></th>\n",
        "      <th></th>\n",
        "      <th></th>\n",
        "      <th></th>\n",
        "      <th></th>\n",
        "      <th></th>\n",
        "      <th></th>\n",
        "      <th></th>\n",
        "      <th></th>\n",
        "      <th></th>\n",
        "      <th></th>\n",
        "      <th></th>\n",
        "      <th></th>\n",
        "    </tr>\n",
        "  </thead>\n",
        "  <tbody>\n",
        "    <tr>\n",
        "      <th>31840</th>\n",
        "      <td> 1921-0021_wotm</td>\n",
        "      <td> 11</td>\n",
        "      <td> 13</td>\n",
        "      <td> None</td>\n",
        "      <td> http://images.nypl.org/index.php?id=4025893&amp;t=w</td>\n",
        "      <td> http://j2k.repo.nypl.org/adore-djatoka/resolve...</td>\n",
        "      <td> [{'rel': 'self', 'href': 'http://menus.nypl.or...</td>\n",
        "      <td>  Hotel Commodore</td>\n",
        "      <td> 4</td>\n",
        "      <td> None</td>\n",
        "      <td> The Authors' League of America</td>\n",
        "      <td> None</td>\n",
        "      <td> 4</td>\n",
        "      <td> 29x21cm folded; 29x42cm open</td>\n",
        "      <td> None</td>\n",
        "      <td>  Hotel Commodore</td>\n",
        "      <td> http://images.nypl.org/index.php?id=4025893&amp;t=r</td>\n",
        "      <td> http://j2k.repo.nypl.org/adore-djatoka/resolve...</td>\n",
        "      <td> None</td>\n",
        "      <td> 1921</td>\n",
        "    </tr>\n",
        "    <tr>\n",
        "      <th>31883</th>\n",
        "      <td> 1921-0064_wotm</td>\n",
        "      <td>  6</td>\n",
        "      <td> 99</td>\n",
        "      <td> None</td>\n",
        "      <td> http://images.nypl.org/index.php?id=4025987&amp;t=w</td>\n",
        "      <td> http://j2k.repo.nypl.org/adore-djatoka/resolve...</td>\n",
        "      <td> [{'rel': 'self', 'href': 'http://menus.nypl.or...</td>\n",
        "      <td> Canadian Pacific</td>\n",
        "      <td> 7</td>\n",
        "      <td> None</td>\n",
        "      <td>                               </td>\n",
        "      <td> None</td>\n",
        "      <td> 1</td>\n",
        "      <td>                  25.5x16.5cm</td>\n",
        "      <td> None</td>\n",
        "      <td> Canadian Pacific</td>\n",
        "      <td> http://images.nypl.org/index.php?id=4025987&amp;t=r</td>\n",
        "      <td> http://j2k.repo.nypl.org/adore-djatoka/resolve...</td>\n",
        "      <td> None</td>\n",
        "      <td> 1921</td>\n",
        "    </tr>\n",
        "  </tbody>\n",
        "</table>\n",
        "<p>2 rows \u00d7 20 columns</p>\n",
        "</div>"
       ],
       "metadata": {},
       "output_type": "pyout",
       "prompt_number": 50,
       "text": [
        "          call_number  day  dish_count event  \\\n",
        "id                                             \n",
        "31840  1921-0021_wotm   11          13  None   \n",
        "31883  1921-0064_wotm    6          99  None   \n",
        "\n",
        "                                             large_src  \\\n",
        "id                                                       \n",
        "31840  http://images.nypl.org/index.php?id=4025893&t=w   \n",
        "31883  http://images.nypl.org/index.php?id=4025987&t=w   \n",
        "\n",
        "                                           large_src_jp2  \\\n",
        "id                                                         \n",
        "31840  http://j2k.repo.nypl.org/adore-djatoka/resolve...   \n",
        "31883  http://j2k.repo.nypl.org/adore-djatoka/resolve...   \n",
        "\n",
        "                                                   links          location  \\\n",
        "id                                                                           \n",
        "31840  [{'rel': 'self', 'href': 'http://menus.nypl.or...   Hotel Commodore   \n",
        "31883  [{'rel': 'self', 'href': 'http://menus.nypl.or...  Canadian Pacific   \n",
        "\n",
        "       month  name                           notes occasion  page_count  \\\n",
        "id                                                                        \n",
        "31840      4  None  The Authors' League of America     None           4   \n",
        "31883      7  None                                     None           1   \n",
        "\n",
        "               physical_description place           sponsor  \\\n",
        "id                                                            \n",
        "31840  29x21cm folded; 29x42cm open  None   Hotel Commodore   \n",
        "31883                   25.5x16.5cm  None  Canadian Pacific   \n",
        "\n",
        "                                         thumbnail_src  \\\n",
        "id                                                       \n",
        "31840  http://images.nypl.org/index.php?id=4025893&t=r   \n",
        "31883  http://images.nypl.org/index.php?id=4025987&t=r   \n",
        "\n",
        "                                       thumbnail_src_jp2 venue  year  \n",
        "id                                                                    \n",
        "31840  http://j2k.repo.nypl.org/adore-djatoka/resolve...  None  1921  \n",
        "31883  http://j2k.repo.nypl.org/adore-djatoka/resolve...  None  1921  \n",
        "\n",
        "[2 rows x 20 columns]"
       ]
      }
     ],
     "prompt_number": 50
    },
    {
     "cell_type": "code",
     "collapsed": false,
     "input": [
      "column_names_orig = menus_from_api_df.columns.tolist()"
     ],
     "language": "python",
     "metadata": {},
     "outputs": [],
     "prompt_number": 51
    },
    {
     "cell_type": "markdown",
     "metadata": {},
     "source": [
      "Print out the column names so they can be re-ordered (more for convenience than anything else)"
     ]
    },
    {
     "cell_type": "code",
     "collapsed": false,
     "input": [
      "print(column_names_orig)"
     ],
     "language": "python",
     "metadata": {},
     "outputs": [
      {
       "output_type": "stream",
       "stream": "stdout",
       "text": [
        "['call_number', 'day', 'dish_count', 'event', 'large_src', 'large_src_jp2', 'links', 'location', 'month', 'name', 'notes', 'occasion', 'page_count', 'physical_description', 'place', 'sponsor', 'thumbnail_src', 'thumbnail_src_jp2', 'venue', 'year']\n"
       ]
      }
     ],
     "prompt_number": 54
    },
    {
     "cell_type": "code",
     "collapsed": false,
     "input": [
      "column_names_new = ['call_number', 'sponsor', 'location', 'name', 'year', 'month', 'day', 'page_count', 'dish_count', 'place', 'event', 'occasion', 'venue', 'physical_description', 'notes', 'links', 'thumbnail_src', 'thumbnail_src_jp2', 'large_src', 'large_src_jp2']"
     ],
     "language": "python",
     "metadata": {},
     "outputs": [],
     "prompt_number": 55
    },
    {
     "cell_type": "code",
     "collapsed": false,
     "input": [
      "menus_from_api_df = menus_from_api_df[column_names_new]"
     ],
     "language": "python",
     "metadata": {},
     "outputs": [],
     "prompt_number": 56
    },
    {
     "cell_type": "code",
     "collapsed": false,
     "input": [
      "menus_from_api_df.head(2)"
     ],
     "language": "python",
     "metadata": {},
     "outputs": [
      {
       "html": [
        "<div style=\"max-height:1000px;max-width:1500px;overflow:auto;\">\n",
        "<table border=\"1\" class=\"dataframe\">\n",
        "  <thead>\n",
        "    <tr style=\"text-align: right;\">\n",
        "      <th></th>\n",
        "      <th>call_number</th>\n",
        "      <th>sponsor</th>\n",
        "      <th>location</th>\n",
        "      <th>name</th>\n",
        "      <th>year</th>\n",
        "      <th>month</th>\n",
        "      <th>day</th>\n",
        "      <th>page_count</th>\n",
        "      <th>dish_count</th>\n",
        "      <th>place</th>\n",
        "      <th>event</th>\n",
        "      <th>occasion</th>\n",
        "      <th>venue</th>\n",
        "      <th>physical_description</th>\n",
        "      <th>notes</th>\n",
        "      <th>links</th>\n",
        "      <th>thumbnail_src</th>\n",
        "      <th>thumbnail_src_jp2</th>\n",
        "      <th>large_src</th>\n",
        "      <th>large_src_jp2</th>\n",
        "    </tr>\n",
        "    <tr>\n",
        "      <th>id</th>\n",
        "      <th></th>\n",
        "      <th></th>\n",
        "      <th></th>\n",
        "      <th></th>\n",
        "      <th></th>\n",
        "      <th></th>\n",
        "      <th></th>\n",
        "      <th></th>\n",
        "      <th></th>\n",
        "      <th></th>\n",
        "      <th></th>\n",
        "      <th></th>\n",
        "      <th></th>\n",
        "      <th></th>\n",
        "      <th></th>\n",
        "      <th></th>\n",
        "      <th></th>\n",
        "      <th></th>\n",
        "      <th></th>\n",
        "      <th></th>\n",
        "    </tr>\n",
        "  </thead>\n",
        "  <tbody>\n",
        "    <tr>\n",
        "      <th>31840</th>\n",
        "      <td> 1921-0021_wotm</td>\n",
        "      <td>  Hotel Commodore</td>\n",
        "      <td>  Hotel Commodore</td>\n",
        "      <td> None</td>\n",
        "      <td> 1921</td>\n",
        "      <td> 4</td>\n",
        "      <td> 11</td>\n",
        "      <td> 4</td>\n",
        "      <td> 13</td>\n",
        "      <td> None</td>\n",
        "      <td> None</td>\n",
        "      <td> None</td>\n",
        "      <td> None</td>\n",
        "      <td> 29x21cm folded; 29x42cm open</td>\n",
        "      <td> The Authors' League of America</td>\n",
        "      <td> [{'rel': 'self', 'href': 'http://menus.nypl.or...</td>\n",
        "      <td> http://images.nypl.org/index.php?id=4025893&amp;t=r</td>\n",
        "      <td> http://j2k.repo.nypl.org/adore-djatoka/resolve...</td>\n",
        "      <td> http://images.nypl.org/index.php?id=4025893&amp;t=w</td>\n",
        "      <td> http://j2k.repo.nypl.org/adore-djatoka/resolve...</td>\n",
        "    </tr>\n",
        "    <tr>\n",
        "      <th>31883</th>\n",
        "      <td> 1921-0064_wotm</td>\n",
        "      <td> Canadian Pacific</td>\n",
        "      <td> Canadian Pacific</td>\n",
        "      <td> None</td>\n",
        "      <td> 1921</td>\n",
        "      <td> 7</td>\n",
        "      <td>  6</td>\n",
        "      <td> 1</td>\n",
        "      <td> 99</td>\n",
        "      <td> None</td>\n",
        "      <td> None</td>\n",
        "      <td> None</td>\n",
        "      <td> None</td>\n",
        "      <td>                  25.5x16.5cm</td>\n",
        "      <td>                               </td>\n",
        "      <td> [{'rel': 'self', 'href': 'http://menus.nypl.or...</td>\n",
        "      <td> http://images.nypl.org/index.php?id=4025987&amp;t=r</td>\n",
        "      <td> http://j2k.repo.nypl.org/adore-djatoka/resolve...</td>\n",
        "      <td> http://images.nypl.org/index.php?id=4025987&amp;t=w</td>\n",
        "      <td> http://j2k.repo.nypl.org/adore-djatoka/resolve...</td>\n",
        "    </tr>\n",
        "  </tbody>\n",
        "</table>\n",
        "<p>2 rows \u00d7 20 columns</p>\n",
        "</div>"
       ],
       "metadata": {},
       "output_type": "pyout",
       "prompt_number": 57,
       "text": [
        "          call_number           sponsor          location  name  year  month  \\\n",
        "id                                                                             \n",
        "31840  1921-0021_wotm   Hotel Commodore   Hotel Commodore  None  1921      4   \n",
        "31883  1921-0064_wotm  Canadian Pacific  Canadian Pacific  None  1921      7   \n",
        "\n",
        "       day  page_count  dish_count place event occasion venue  \\\n",
        "id                                                              \n",
        "31840   11           4          13  None  None     None  None   \n",
        "31883    6           1          99  None  None     None  None   \n",
        "\n",
        "               physical_description                           notes  \\\n",
        "id                                                                    \n",
        "31840  29x21cm folded; 29x42cm open  The Authors' League of America   \n",
        "31883                   25.5x16.5cm                                   \n",
        "\n",
        "                                                   links  \\\n",
        "id                                                         \n",
        "31840  [{'rel': 'self', 'href': 'http://menus.nypl.or...   \n",
        "31883  [{'rel': 'self', 'href': 'http://menus.nypl.or...   \n",
        "\n",
        "                                         thumbnail_src  \\\n",
        "id                                                       \n",
        "31840  http://images.nypl.org/index.php?id=4025893&t=r   \n",
        "31883  http://images.nypl.org/index.php?id=4025987&t=r   \n",
        "\n",
        "                                       thumbnail_src_jp2  \\\n",
        "id                                                         \n",
        "31840  http://j2k.repo.nypl.org/adore-djatoka/resolve...   \n",
        "31883  http://j2k.repo.nypl.org/adore-djatoka/resolve...   \n",
        "\n",
        "                                             large_src  \\\n",
        "id                                                       \n",
        "31840  http://images.nypl.org/index.php?id=4025893&t=w   \n",
        "31883  http://images.nypl.org/index.php?id=4025987&t=w   \n",
        "\n",
        "                                           large_src_jp2  \n",
        "id                                                        \n",
        "31840  http://j2k.repo.nypl.org/adore-djatoka/resolve...  \n",
        "31883  http://j2k.repo.nypl.org/adore-djatoka/resolve...  \n",
        "\n",
        "[2 rows x 20 columns]"
       ]
      }
     ],
     "prompt_number": 57
    },
    {
     "cell_type": "markdown",
     "metadata": {},
     "source": [
      "Save this version to a CSV file"
     ]
    },
    {
     "cell_type": "code",
     "collapsed": false,
     "input": [
      "menus_from_api_df.to_csv('../data/menus_1851_to_1921_from_api-trimmed.csv')"
     ],
     "language": "python",
     "metadata": {},
     "outputs": [],
     "prompt_number": 58
    },
    {
     "cell_type": "code",
     "collapsed": false,
     "input": [
      "menus_from_api_df.info()"
     ],
     "language": "python",
     "metadata": {},
     "outputs": [
      {
       "output_type": "stream",
       "stream": "stdout",
       "text": [
        "<class 'pandas.core.frame.DataFrame'>\n",
        "Int64Index: 12246 entries, 31840 to 23623\n",
        "Data columns (total 20 columns):\n",
        "call_number             10620 non-null object\n",
        "sponsor                 10620 non-null object\n",
        "location                12246 non-null object\n",
        "name                    6586 non-null object\n",
        "year                    12246 non-null int64\n",
        "month                   12242 non-null float64\n",
        "day                     12239 non-null float64\n",
        "page_count              12246 non-null int64\n",
        "dish_count              12246 non-null int64\n",
        "place                   7343 non-null object\n",
        "event                   7516 non-null object\n",
        "occasion                7343 non-null object\n",
        "venue                   7343 non-null object\n",
        "physical_description    10546 non-null object\n",
        "notes                   10546 non-null object\n",
        "links                   12246 non-null object\n",
        "thumbnail_src           12246 non-null object\n",
        "thumbnail_src_jp2       12246 non-null object\n",
        "large_src               12246 non-null object\n",
        "large_src_jp2           12246 non-null object\n",
        "dtypes: float64(2), int64(3), object(15)"
       ]
      }
     ],
     "prompt_number": 59
    },
    {
     "cell_type": "code",
     "collapsed": false,
     "input": [],
     "language": "python",
     "metadata": {},
     "outputs": []
    }
   ],
   "metadata": {}
  }
 ]
}