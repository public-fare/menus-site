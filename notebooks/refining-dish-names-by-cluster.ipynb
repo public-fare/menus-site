{
 "metadata": {
  "name": ""
 },
 "nbformat": 3,
 "nbformat_minor": 0,
 "worksheets": [
  {
   "cells": [
    {
     "cell_type": "heading",
     "level": 1,
     "metadata": {},
     "source": [
      "Cleaning Up Dish Names Using Fingerprint Clustering"
     ]
    },
    {
     "cell_type": "markdown",
     "metadata": {},
     "source": [
      "by Trevor Mu\u00f1oz, [@trevormunoz](https://twitter.com/trevormunoz)"
     ]
    },
    {
     "cell_type": "code",
     "collapsed": false,
     "input": [
      "import pandas as pd"
     ],
     "language": "python",
     "metadata": {},
     "outputs": [],
     "prompt_number": 1
    },
    {
     "cell_type": "code",
     "collapsed": false,
     "input": [
      "!ls ../data/dishes/"
     ],
     "language": "python",
     "metadata": {},
     "outputs": [
      {
       "output_type": "stream",
       "stream": "stdout",
       "text": [
        "dishes_1851_to_1921.csv\r\n"
       ]
      }
     ],
     "prompt_number": 2
    },
    {
     "cell_type": "code",
     "collapsed": false,
     "input": [
      "dishes_df = pd.DataFrame.from_csv('../data/dishes/dishes_1851_to_1921.csv')"
     ],
     "language": "python",
     "metadata": {},
     "outputs": [],
     "prompt_number": 3
    },
    {
     "cell_type": "code",
     "collapsed": false,
     "input": [
      "dishes_df.head(2)"
     ],
     "language": "python",
     "metadata": {},
     "outputs": [
      {
       "html": [
        "<div style=\"max-height:1000px;max-width:1500px;overflow:auto;\">\n",
        "<table border=\"1\" class=\"dataframe\">\n",
        "  <thead>\n",
        "    <tr style=\"text-align: right;\">\n",
        "      <th></th>\n",
        "      <th>name</th>\n",
        "      <th>description</th>\n",
        "      <th>menus_appeared</th>\n",
        "      <th>times_appeared</th>\n",
        "      <th>first_appeared</th>\n",
        "      <th>last_appeared</th>\n",
        "      <th>lowest_price</th>\n",
        "      <th>highest_price</th>\n",
        "      <th>name_modified</th>\n",
        "    </tr>\n",
        "    <tr>\n",
        "      <th>id</th>\n",
        "      <th></th>\n",
        "      <th></th>\n",
        "      <th></th>\n",
        "      <th></th>\n",
        "      <th></th>\n",
        "      <th></th>\n",
        "      <th></th>\n",
        "      <th></th>\n",
        "      <th></th>\n",
        "    </tr>\n",
        "  </thead>\n",
        "  <tbody>\n",
        "    <tr>\n",
        "      <th>1</th>\n",
        "      <td> Consomme printaniere royal</td>\n",
        "      <td>NaN</td>\n",
        "      <td>  10</td>\n",
        "      <td>  10</td>\n",
        "      <td> 1897</td>\n",
        "      <td> 1927</td>\n",
        "      <td> 0.2</td>\n",
        "      <td> 0.4</td>\n",
        "      <td> consomme printaniere royal</td>\n",
        "    </tr>\n",
        "    <tr>\n",
        "      <th>2</th>\n",
        "      <td>              Chicken gumbo</td>\n",
        "      <td>NaN</td>\n",
        "      <td> 109</td>\n",
        "      <td> 115</td>\n",
        "      <td> 1895</td>\n",
        "      <td> 1960</td>\n",
        "      <td> 0.1</td>\n",
        "      <td> 0.8</td>\n",
        "      <td>              chicken gumbo</td>\n",
        "    </tr>\n",
        "  </tbody>\n",
        "</table>\n",
        "<p>2 rows \u00d7 9 columns</p>\n",
        "</div>"
       ],
       "metadata": {},
       "output_type": "pyout",
       "prompt_number": 4,
       "text": [
        "                          name  description  menus_appeared  times_appeared  \\\n",
        "id                                                                            \n",
        "1   Consomme printaniere royal          NaN              10              10   \n",
        "2                Chicken gumbo          NaN             109             115   \n",
        "\n",
        "    first_appeared  last_appeared  lowest_price  highest_price  \\\n",
        "id                                                               \n",
        "1             1897           1927           0.2            0.4   \n",
        "2             1895           1960           0.1            0.8   \n",
        "\n",
        "                 name_modified  \n",
        "id                              \n",
        "1   consomme printaniere royal  \n",
        "2                chicken gumbo  \n",
        "\n",
        "[2 rows x 9 columns]"
       ]
      }
     ],
     "prompt_number": 4
    },
    {
     "cell_type": "code",
     "collapsed": false,
     "input": [
      "unique_dish_names_t0 = dishes_df.name_modified.nunique()\n",
      "print(unique_dish_names_t0)"
     ],
     "language": "python",
     "metadata": {},
     "outputs": [
      {
       "output_type": "stream",
       "stream": "stdout",
       "text": [
        "141781\n"
       ]
      }
     ],
     "prompt_number": 13
    },
    {
     "cell_type": "markdown",
     "metadata": {},
     "source": [
      "At the outset, it appears that there are 141,781 unique values for dish names in the set"
     ]
    },
    {
     "cell_type": "code",
     "collapsed": false,
     "input": [
      "import re\n",
      "\n",
      "def fingerprint(x):\n",
      "    \"\"\"\n",
      "    A modified version of the fingerprint clustering algorithm implemented by Open Refine.\n",
      "    See https://github.com/OpenRefine/OpenRefine/wiki/Clustering-In-Depth\n",
      "    This does not normalize to ASCII characters since diacritics may be significant in this dataset\n",
      "    \"\"\"\n",
      "    alphanumeric_tokens = filter(None, re.split('\\W', x))\n",
      "    seen = set()\n",
      "    seen_add = seen.add\n",
      "    deduped = sorted([i for i in alphanumeric_tokens if i not in seen and not seen_add(i)])\n",
      "    fingerprint = ' '.join(deduped)\n",
      "    \n",
      "    return fingerprint"
     ],
     "language": "python",
     "metadata": {},
     "outputs": [],
     "prompt_number": 6
    },
    {
     "cell_type": "code",
     "collapsed": false,
     "input": [
      "dishes_df['fingerprint'] = dishes_df.name_modified.map(fingerprint)"
     ],
     "language": "python",
     "metadata": {},
     "outputs": [],
     "prompt_number": 7
    },
    {
     "cell_type": "code",
     "collapsed": false,
     "input": [
      "dishes_df.head()"
     ],
     "language": "python",
     "metadata": {},
     "outputs": [
      {
       "html": [
        "<div style=\"max-height:1000px;max-width:1500px;overflow:auto;\">\n",
        "<table border=\"1\" class=\"dataframe\">\n",
        "  <thead>\n",
        "    <tr style=\"text-align: right;\">\n",
        "      <th></th>\n",
        "      <th>name</th>\n",
        "      <th>description</th>\n",
        "      <th>menus_appeared</th>\n",
        "      <th>times_appeared</th>\n",
        "      <th>first_appeared</th>\n",
        "      <th>last_appeared</th>\n",
        "      <th>lowest_price</th>\n",
        "      <th>highest_price</th>\n",
        "      <th>name_modified</th>\n",
        "      <th>fingerprint</th>\n",
        "    </tr>\n",
        "    <tr>\n",
        "      <th>id</th>\n",
        "      <th></th>\n",
        "      <th></th>\n",
        "      <th></th>\n",
        "      <th></th>\n",
        "      <th></th>\n",
        "      <th></th>\n",
        "      <th></th>\n",
        "      <th></th>\n",
        "      <th></th>\n",
        "      <th></th>\n",
        "    </tr>\n",
        "  </thead>\n",
        "  <tbody>\n",
        "    <tr>\n",
        "      <th>1</th>\n",
        "      <td> Consomme printaniere royal</td>\n",
        "      <td>NaN</td>\n",
        "      <td>  10</td>\n",
        "      <td>  10</td>\n",
        "      <td> 1897</td>\n",
        "      <td> 1927</td>\n",
        "      <td> 0.20</td>\n",
        "      <td>  0.4</td>\n",
        "      <td> consomme printaniere royal</td>\n",
        "      <td> consomme printaniere royal</td>\n",
        "    </tr>\n",
        "    <tr>\n",
        "      <th>2</th>\n",
        "      <td>              Chicken gumbo</td>\n",
        "      <td>NaN</td>\n",
        "      <td> 109</td>\n",
        "      <td> 115</td>\n",
        "      <td> 1895</td>\n",
        "      <td> 1960</td>\n",
        "      <td> 0.10</td>\n",
        "      <td>  0.8</td>\n",
        "      <td>              chicken gumbo</td>\n",
        "      <td>              chicken gumbo</td>\n",
        "    </tr>\n",
        "    <tr>\n",
        "      <th>3</th>\n",
        "      <td>        Tomato aux croutons</td>\n",
        "      <td>NaN</td>\n",
        "      <td>  15</td>\n",
        "      <td>  15</td>\n",
        "      <td> 1893</td>\n",
        "      <td> 1917</td>\n",
        "      <td> 0.25</td>\n",
        "      <td>  0.4</td>\n",
        "      <td>        tomato aux croutons</td>\n",
        "      <td>        aux croutons tomato</td>\n",
        "    </tr>\n",
        "    <tr>\n",
        "      <th>4</th>\n",
        "      <td>            Onion au gratin</td>\n",
        "      <td>NaN</td>\n",
        "      <td>  41</td>\n",
        "      <td>  41</td>\n",
        "      <td> 1900</td>\n",
        "      <td> 1971</td>\n",
        "      <td> 0.35</td>\n",
        "      <td>  1.0</td>\n",
        "      <td>            onion au gratin</td>\n",
        "      <td>            au gratin onion</td>\n",
        "    </tr>\n",
        "    <tr>\n",
        "      <th>5</th>\n",
        "      <td>                St. Emilion</td>\n",
        "      <td>NaN</td>\n",
        "      <td>  62</td>\n",
        "      <td>  64</td>\n",
        "      <td> 1881</td>\n",
        "      <td> 1981</td>\n",
        "      <td> 0.00</td>\n",
        "      <td> 18.0</td>\n",
        "      <td>                st. emilion</td>\n",
        "      <td>                 emilion st</td>\n",
        "    </tr>\n",
        "  </tbody>\n",
        "</table>\n",
        "<p>5 rows \u00d7 10 columns</p>\n",
        "</div>"
       ],
       "metadata": {},
       "output_type": "pyout",
       "prompt_number": 8,
       "text": [
        "                          name  description  menus_appeared  times_appeared  \\\n",
        "id                                                                            \n",
        "1   Consomme printaniere royal          NaN              10              10   \n",
        "2                Chicken gumbo          NaN             109             115   \n",
        "3          Tomato aux croutons          NaN              15              15   \n",
        "4              Onion au gratin          NaN              41              41   \n",
        "5                  St. Emilion          NaN              62              64   \n",
        "\n",
        "    first_appeared  last_appeared  lowest_price  highest_price  \\\n",
        "id                                                               \n",
        "1             1897           1927          0.20            0.4   \n",
        "2             1895           1960          0.10            0.8   \n",
        "3             1893           1917          0.25            0.4   \n",
        "4             1900           1971          0.35            1.0   \n",
        "5             1881           1981          0.00           18.0   \n",
        "\n",
        "                 name_modified                 fingerprint  \n",
        "id                                                          \n",
        "1   consomme printaniere royal  consomme printaniere royal  \n",
        "2                chicken gumbo               chicken gumbo  \n",
        "3          tomato aux croutons         aux croutons tomato  \n",
        "4              onion au gratin             au gratin onion  \n",
        "5                  st. emilion                  emilion st  \n",
        "\n",
        "[5 rows x 10 columns]"
       ]
      }
     ],
     "prompt_number": 8
    },
    {
     "cell_type": "markdown",
     "metadata": {},
     "source": [
      "We can cluster by these fingerprint values \u2026"
     ]
    },
    {
     "cell_type": "code",
     "collapsed": false,
     "input": [
      "clusters = dishes_df.groupby('fingerprint')"
     ],
     "language": "python",
     "metadata": {},
     "outputs": [],
     "prompt_number": 9
    },
    {
     "cell_type": "code",
     "collapsed": false,
     "input": [
      "s = clusters.size()"
     ],
     "language": "python",
     "metadata": {},
     "outputs": [],
     "prompt_number": 10
    },
    {
     "cell_type": "code",
     "collapsed": false,
     "input": [
      "s.order()"
     ],
     "language": "python",
     "metadata": {},
     "outputs": [
      {
       "metadata": {},
       "output_type": "pyout",
       "prompt_number": 11,
       "text": [
        "fingerprint\n",
        "0 00 1 50 addition cups in of pint price quart to wine    1\n",
        "0 00 1 50 box cigarettes franc large per size small       1\n",
        "0 00 1 50 box cigarettes francs large per size small      1\n",
        "0 00 1 60 c germaine gorge l macon s                      1\n",
        "0 05 clam cocktail extra or oysters                       1\n",
        "0 1 2 50 75 bottle munich tivoli                          1\n",
        "0 1 2 50 american bottle lager                            1\n",
        "0 1 2 50 bottle lager tivoli                              1\n",
        "0 1 2 50 bottle soda                                      1\n",
        "0 1 2 60 apollinaris bottle                               1\n",
        "0 1 2 75 ale bass bottle                                  1\n",
        "0 1 2 75 ale belfast bottle ginger                        1\n",
        "0 1 2 75 bottle guiness porter                            1\n",
        "0 1 25 75 and barton c guestier julien s st               1\n",
        "0 1 50 75 claret julien pts qts st                        1\n",
        "...\n",
        "au gratin potatoes          27\n",
        "browned hashed potatoes     27\n",
        "co dry extra g h mumm       27\n",
        "cream ice vanilla           27\n",
        "dry extra g h mumm s        27\n",
        "eggs fried two              27\n",
        "ale c ginger imported       28\n",
        "cream hashed in potatoes    31\n",
        "mashed potatoes             31\n",
        "2 eggs on poached toast     32\n",
        "beef cold roast             32\n",
        "beef cold corned            33\n",
        "french fried potatoes       33\n",
        "fried potatoes sweet        35\n",
        "boiled potatoes             38\n",
        "Length: 119713, dtype: int64"
       ]
      }
     ],
     "prompt_number": 11
    },
    {
     "cell_type": "markdown",
     "metadata": {},
     "source": [
      "Before making any further changes to the data, we'll save a copy of the dish data that includes the fingerprint:"
     ]
    },
    {
     "cell_type": "code",
     "collapsed": false,
     "input": [
      "dishes_df.to_csv('../data/dishes/dishes_1851_to_1921_fingerprinted.csv')"
     ],
     "language": "python",
     "metadata": {},
     "outputs": [],
     "prompt_number": 12
    },
    {
     "cell_type": "markdown",
     "metadata": {},
     "source": [
      "Let's assess the scope of variance in sizes of clusters:"
     ]
    },
    {
     "cell_type": "code",
     "collapsed": false,
     "input": [
      "s.value_counts()"
     ],
     "language": "python",
     "metadata": {},
     "outputs": [
      {
       "metadata": {},
       "output_type": "pyout",
       "prompt_number": 14,
       "text": [
        "1     100852\n",
        "2      11606\n",
        "3       3481\n",
        "4       1521\n",
        "5        835\n",
        "6        471\n",
        "7        260\n",
        "8        192\n",
        "9        135\n",
        "10        90\n",
        "11        66\n",
        "12        42\n",
        "14        25\n",
        "13        23\n",
        "17        19\n",
        "16        14\n",
        "15        14\n",
        "18        12\n",
        "22         9\n",
        "19         8\n",
        "21         8\n",
        "27         6\n",
        "23         4\n",
        "25         3\n",
        "24         3\n",
        "20         3\n",
        "26         2\n",
        "31         2\n",
        "32         2\n",
        "33         2\n",
        "35         1\n",
        "28         1\n",
        "38         1\n",
        "dtype: int64"
       ]
      }
     ],
     "prompt_number": 14
    },
    {
     "cell_type": "markdown",
     "metadata": {},
     "source": [
      "So, there are about 100,000 singletons (clusters of size 1), but if we consider clusters of size 5 and greater, the number drops pretty far."
     ]
    },
    {
     "cell_type": "code",
     "collapsed": false,
     "input": [
      "clusters_5_and_greater = clusters.size() >= 5"
     ],
     "language": "python",
     "metadata": {},
     "outputs": [],
     "prompt_number": 15
    },
    {
     "cell_type": "code",
     "collapsed": false,
     "input": [
      "len(s[clusters_5_and_greater].order())"
     ],
     "language": "python",
     "metadata": {},
     "outputs": [
      {
       "metadata": {},
       "output_type": "pyout",
       "prompt_number": 16,
       "text": [
        "2253"
       ]
      }
     ],
     "prompt_number": 16
    },
    {
     "cell_type": "heading",
     "level": 3,
     "metadata": {},
     "source": [
      "Two Experiments with Using Clusters to Refine Names"
     ]
    },
    {
     "cell_type": "markdown",
     "metadata": {},
     "source": [
      "Let's take a slice that represents the top 10 largest clusters and experiment with cleaning that up \u2026"
     ]
    },
    {
     "cell_type": "code",
     "collapsed": false,
     "input": [
      "top_10_hits = [val for val in s[clusters_5_and_greater].order()[-10:].index]\n",
      "print(top_10_hits)"
     ],
     "language": "python",
     "metadata": {},
     "outputs": [
      {
       "output_type": "stream",
       "stream": "stdout",
       "text": [
        "['eggs fried two', 'ale c ginger imported', 'cream hashed in potatoes', 'mashed potatoes', '2 eggs on poached toast', 'beef cold roast', 'beef cold corned', 'french fried potatoes', 'fried potatoes sweet', 'boiled potatoes']\n"
       ]
      }
     ],
     "prompt_number": 19
    },
    {
     "cell_type": "code",
     "collapsed": false,
     "input": [
      "sample_top_10_df = dishes_df[dishes_df.fingerprint.isin(top_10_hits)]"
     ],
     "language": "python",
     "metadata": {},
     "outputs": [],
     "prompt_number": 20
    },
    {
     "cell_type": "code",
     "collapsed": false,
     "input": [
      "sample_top_10_df.head()"
     ],
     "language": "python",
     "metadata": {},
     "outputs": [
      {
       "html": [
        "<div style=\"max-height:1000px;max-width:1500px;overflow:auto;\">\n",
        "<table border=\"1\" class=\"dataframe\">\n",
        "  <thead>\n",
        "    <tr style=\"text-align: right;\">\n",
        "      <th></th>\n",
        "      <th>name</th>\n",
        "      <th>description</th>\n",
        "      <th>menus_appeared</th>\n",
        "      <th>times_appeared</th>\n",
        "      <th>first_appeared</th>\n",
        "      <th>last_appeared</th>\n",
        "      <th>lowest_price</th>\n",
        "      <th>highest_price</th>\n",
        "      <th>name_modified</th>\n",
        "      <th>fingerprint</th>\n",
        "    </tr>\n",
        "    <tr>\n",
        "      <th>id</th>\n",
        "      <th></th>\n",
        "      <th></th>\n",
        "      <th></th>\n",
        "      <th></th>\n",
        "      <th></th>\n",
        "      <th></th>\n",
        "      <th></th>\n",
        "      <th></th>\n",
        "      <th></th>\n",
        "      <th></th>\n",
        "    </tr>\n",
        "  </thead>\n",
        "  <tbody>\n",
        "    <tr>\n",
        "      <th>83  </th>\n",
        "      <td>       Mashed potatoes</td>\n",
        "      <td>NaN</td>\n",
        "      <td> 2576</td>\n",
        "      <td> 2666</td>\n",
        "      <td> 1852</td>\n",
        "      <td> 2012</td>\n",
        "      <td> 0.0</td>\n",
        "      <td> 20.00</td>\n",
        "      <td>       mashed potatoes</td>\n",
        "      <td>       mashed potatoes</td>\n",
        "    </tr>\n",
        "    <tr>\n",
        "      <th>219 </th>\n",
        "      <td>       Boiled potatoes</td>\n",
        "      <td>NaN</td>\n",
        "      <td> 2061</td>\n",
        "      <td> 2110</td>\n",
        "      <td> 1858</td>\n",
        "      <td> 1974</td>\n",
        "      <td> 0.0</td>\n",
        "      <td> 20.00</td>\n",
        "      <td>       boiled potatoes</td>\n",
        "      <td>       boiled potatoes</td>\n",
        "    </tr>\n",
        "    <tr>\n",
        "      <th>1259</th>\n",
        "      <td> French fried potatoes</td>\n",
        "      <td>NaN</td>\n",
        "      <td> 1309</td>\n",
        "      <td> 1390</td>\n",
        "      <td> 1884</td>\n",
        "      <td> 1987</td>\n",
        "      <td> 0.0</td>\n",
        "      <td> 25.00</td>\n",
        "      <td> french fried potatoes</td>\n",
        "      <td> french fried potatoes</td>\n",
        "    </tr>\n",
        "    <tr>\n",
        "      <th>1971</th>\n",
        "      <td>       fried eggs, two</td>\n",
        "      <td>NaN</td>\n",
        "      <td>   13</td>\n",
        "      <td>   13</td>\n",
        "      <td> 1900</td>\n",
        "      <td> 1937</td>\n",
        "      <td> 0.0</td>\n",
        "      <td>  0.25</td>\n",
        "      <td>       fried eggs, two</td>\n",
        "      <td>        eggs fried two</td>\n",
        "    </tr>\n",
        "    <tr>\n",
        "      <th>2089</th>\n",
        "      <td>  Sweet Potatoes Fried</td>\n",
        "      <td>NaN</td>\n",
        "      <td>   34</td>\n",
        "      <td>   35</td>\n",
        "      <td> 1892</td>\n",
        "      <td> 1933</td>\n",
        "      <td> 0.1</td>\n",
        "      <td> 15.00</td>\n",
        "      <td>  sweet potatoes fried</td>\n",
        "      <td>  fried potatoes sweet</td>\n",
        "    </tr>\n",
        "  </tbody>\n",
        "</table>\n",
        "<p>5 rows \u00d7 10 columns</p>\n",
        "</div>"
       ],
       "metadata": {},
       "output_type": "pyout",
       "prompt_number": 21,
       "text": [
        "                       name  description  menus_appeared  times_appeared  \\\n",
        "id                                                                         \n",
        "83          Mashed potatoes          NaN            2576            2666   \n",
        "219         Boiled potatoes          NaN            2061            2110   \n",
        "1259  French fried potatoes          NaN            1309            1390   \n",
        "1971        fried eggs, two          NaN              13              13   \n",
        "2089   Sweet Potatoes Fried          NaN              34              35   \n",
        "\n",
        "      first_appeared  last_appeared  lowest_price  highest_price  \\\n",
        "id                                                                 \n",
        "83              1852           2012           0.0          20.00   \n",
        "219             1858           1974           0.0          20.00   \n",
        "1259            1884           1987           0.0          25.00   \n",
        "1971            1900           1937           0.0           0.25   \n",
        "2089            1892           1933           0.1          15.00   \n",
        "\n",
        "              name_modified            fingerprint  \n",
        "id                                                  \n",
        "83          mashed potatoes        mashed potatoes  \n",
        "219         boiled potatoes        boiled potatoes  \n",
        "1259  french fried potatoes  french fried potatoes  \n",
        "1971        fried eggs, two         eggs fried two  \n",
        "2089   sweet potatoes fried   fried potatoes sweet  \n",
        "\n",
        "[5 rows x 10 columns]"
       ]
      }
     ],
     "prompt_number": 21
    },
    {
     "cell_type": "code",
     "collapsed": false,
     "input": [
      "sample_top_10_df.name_modified.nunique()"
     ],
     "language": "python",
     "metadata": {},
     "outputs": [
      {
       "metadata": {},
       "output_type": "pyout",
       "prompt_number": 22,
       "text": [
        "181"
       ]
      }
     ],
     "prompt_number": 22
    },
    {
     "cell_type": "markdown",
     "metadata": {},
     "source": [
      "This small sample has ostensibly 181 unique name values. Let's see if using Google Refine, we can reduce that number to 10. (If names share a fingerprint, we're going to assume they should be normalized to the same value.)"
     ]
    },
    {
     "cell_type": "code",
     "collapsed": false,
     "input": [
      "sample_top_10_df.to_csv('/Users/libraries/Downloads/cleaning_sample_dishes.csv')"
     ],
     "language": "python",
     "metadata": {},
     "outputs": [],
     "prompt_number": 24
    },
    {
     "cell_type": "markdown",
     "metadata": {},
     "source": [
      "Load up what we get back after using Refine \u2026"
     ]
    },
    {
     "cell_type": "code",
     "collapsed": false,
     "input": [
      "refined = pd.DataFrame.from_csv('/Users/libraries/Downloads/cleaning_sample_dishes-refined.csv')"
     ],
     "language": "python",
     "metadata": {},
     "outputs": [],
     "prompt_number": 25
    },
    {
     "cell_type": "code",
     "collapsed": false,
     "input": [
      "refined.head(2)"
     ],
     "language": "python",
     "metadata": {},
     "outputs": [
      {
       "html": [
        "<div style=\"max-height:1000px;max-width:1500px;overflow:auto;\">\n",
        "<table border=\"1\" class=\"dataframe\">\n",
        "  <thead>\n",
        "    <tr style=\"text-align: right;\">\n",
        "      <th></th>\n",
        "      <th>name</th>\n",
        "      <th>description</th>\n",
        "      <th>menus_appeared</th>\n",
        "      <th>times_appeared</th>\n",
        "      <th>first_appeared</th>\n",
        "      <th>last_appeared</th>\n",
        "      <th>lowest_price</th>\n",
        "      <th>highest_price</th>\n",
        "      <th>name_modified</th>\n",
        "      <th>fingerprint</th>\n",
        "    </tr>\n",
        "    <tr>\n",
        "      <th>id</th>\n",
        "      <th></th>\n",
        "      <th></th>\n",
        "      <th></th>\n",
        "      <th></th>\n",
        "      <th></th>\n",
        "      <th></th>\n",
        "      <th></th>\n",
        "      <th></th>\n",
        "      <th></th>\n",
        "      <th></th>\n",
        "    </tr>\n",
        "  </thead>\n",
        "  <tbody>\n",
        "    <tr>\n",
        "      <th>83 </th>\n",
        "      <td> Mashed potatoes</td>\n",
        "      <td>NaN</td>\n",
        "      <td> 2576</td>\n",
        "      <td> 2666</td>\n",
        "      <td> 1852</td>\n",
        "      <td> 2012</td>\n",
        "      <td> 0</td>\n",
        "      <td> 20</td>\n",
        "      <td> potatoes, mashed</td>\n",
        "      <td> mashed potatoes</td>\n",
        "    </tr>\n",
        "    <tr>\n",
        "      <th>219</th>\n",
        "      <td> Boiled potatoes</td>\n",
        "      <td>NaN</td>\n",
        "      <td> 2061</td>\n",
        "      <td> 2110</td>\n",
        "      <td> 1858</td>\n",
        "      <td> 1974</td>\n",
        "      <td> 0</td>\n",
        "      <td> 20</td>\n",
        "      <td> potatoes, boiled</td>\n",
        "      <td> boiled potatoes</td>\n",
        "    </tr>\n",
        "  </tbody>\n",
        "</table>\n",
        "<p>2 rows \u00d7 10 columns</p>\n",
        "</div>"
       ],
       "metadata": {},
       "output_type": "pyout",
       "prompt_number": 26,
       "text": [
        "                name  description  menus_appeared  times_appeared  \\\n",
        "id                                                                  \n",
        "83   Mashed potatoes          NaN            2576            2666   \n",
        "219  Boiled potatoes          NaN            2061            2110   \n",
        "\n",
        "     first_appeared  last_appeared  lowest_price  highest_price  \\\n",
        "id                                                                \n",
        "83             1852           2012             0             20   \n",
        "219            1858           1974             0             20   \n",
        "\n",
        "        name_modified      fingerprint  \n",
        "id                                      \n",
        "83   potatoes, mashed  mashed potatoes  \n",
        "219  potatoes, boiled  boiled potatoes  \n",
        "\n",
        "[2 rows x 10 columns]"
       ]
      }
     ],
     "prompt_number": 26
    },
    {
     "cell_type": "code",
     "collapsed": false,
     "input": [
      "refined.name_modified.nunique()"
     ],
     "language": "python",
     "metadata": {},
     "outputs": [
      {
       "metadata": {},
       "output_type": "pyout",
       "prompt_number": 27,
       "text": [
        "10"
       ]
      }
     ],
     "prompt_number": 27
    },
    {
     "cell_type": "markdown",
     "metadata": {},
     "source": [
      "There &mdash; we've reduced the variation down to 10 unique values. Let's update our main dataframe with the new values."
     ]
    },
    {
     "cell_type": "code",
     "collapsed": false,
     "input": [
      "dishes_df.name_modified.update(refined.name_modified)"
     ],
     "language": "python",
     "metadata": {},
     "outputs": [],
     "prompt_number": 28
    },
    {
     "cell_type": "code",
     "collapsed": false,
     "input": [
      "dishes_df[dishes_df.index == 219]"
     ],
     "language": "python",
     "metadata": {},
     "outputs": [
      {
       "html": [
        "<div style=\"max-height:1000px;max-width:1500px;overflow:auto;\">\n",
        "<table border=\"1\" class=\"dataframe\">\n",
        "  <thead>\n",
        "    <tr style=\"text-align: right;\">\n",
        "      <th></th>\n",
        "      <th>name</th>\n",
        "      <th>description</th>\n",
        "      <th>menus_appeared</th>\n",
        "      <th>times_appeared</th>\n",
        "      <th>first_appeared</th>\n",
        "      <th>last_appeared</th>\n",
        "      <th>lowest_price</th>\n",
        "      <th>highest_price</th>\n",
        "      <th>name_modified</th>\n",
        "      <th>fingerprint</th>\n",
        "    </tr>\n",
        "    <tr>\n",
        "      <th>id</th>\n",
        "      <th></th>\n",
        "      <th></th>\n",
        "      <th></th>\n",
        "      <th></th>\n",
        "      <th></th>\n",
        "      <th></th>\n",
        "      <th></th>\n",
        "      <th></th>\n",
        "      <th></th>\n",
        "      <th></th>\n",
        "    </tr>\n",
        "  </thead>\n",
        "  <tbody>\n",
        "    <tr>\n",
        "      <th>219</th>\n",
        "      <td> Boiled potatoes</td>\n",
        "      <td>NaN</td>\n",
        "      <td> 2061</td>\n",
        "      <td> 2110</td>\n",
        "      <td> 1858</td>\n",
        "      <td> 1974</td>\n",
        "      <td> 0</td>\n",
        "      <td> 20</td>\n",
        "      <td> potatoes, boiled</td>\n",
        "      <td> boiled potatoes</td>\n",
        "    </tr>\n",
        "  </tbody>\n",
        "</table>\n",
        "<p>1 rows \u00d7 10 columns</p>\n",
        "</div>"
       ],
       "metadata": {},
       "output_type": "pyout",
       "prompt_number": 29,
       "text": [
        "                name  description  menus_appeared  times_appeared  \\\n",
        "id                                                                  \n",
        "219  Boiled potatoes          NaN            2061            2110   \n",
        "\n",
        "     first_appeared  last_appeared  lowest_price  highest_price  \\\n",
        "id                                                                \n",
        "219            1858           1974             0             20   \n",
        "\n",
        "        name_modified      fingerprint  \n",
        "id                                      \n",
        "219  potatoes, boiled  boiled potatoes  \n",
        "\n",
        "[1 rows x 10 columns]"
       ]
      }
     ],
     "prompt_number": 29
    },
    {
     "cell_type": "code",
     "collapsed": false,
     "input": [
      "unique_dish_names_t1 = dishes_df.name_modified.nunique()\n",
      "print(unique_dish_names_t1)"
     ],
     "language": "python",
     "metadata": {},
     "outputs": [
      {
       "output_type": "stream",
       "stream": "stdout",
       "text": [
        "141609\n"
       ]
      }
     ],
     "prompt_number": 31
    },
    {
     "cell_type": "code",
     "collapsed": false,
     "input": [
      "unique_dish_names_t0 - unique_dish_names_t1"
     ],
     "language": "python",
     "metadata": {},
     "outputs": [
      {
       "metadata": {},
       "output_type": "pyout",
       "prompt_number": 32,
       "text": [
        "172"
       ]
      }
     ],
     "prompt_number": 32
    },
    {
     "cell_type": "markdown",
     "metadata": {},
     "source": [
      "Now it appears, our count of unique values for dish name is down 172 to only 141,609. Let's take another set of clusters and try a second method that doesn't require heading out to Open Refine."
     ]
    },
    {
     "cell_type": "code",
     "collapsed": false,
     "input": [
      "second_sample = [val for val in s[clusters_5_and_greater].order()[-30:-11].index]"
     ],
     "language": "python",
     "metadata": {},
     "outputs": [],
     "prompt_number": 33
    },
    {
     "cell_type": "code",
     "collapsed": false,
     "input": [
      "second_sample_df = dishes_df[dishes_df.fingerprint.isin(second_sample)]"
     ],
     "language": "python",
     "metadata": {},
     "outputs": [],
     "prompt_number": 34
    },
    {
     "cell_type": "code",
     "collapsed": false,
     "input": [
      "for item in second_sample:\n",
      "    print(item)"
     ],
     "language": "python",
     "metadata": {},
     "outputs": [
      {
       "output_type": "stream",
       "stream": "stdout",
       "text": [
        "fruit grape half\n",
        "lettuce salad\n",
        "lobster salad\n",
        "brown hashed potatoes\n",
        "chocolate cream ice\n",
        "co dry extra g h mumm s\n",
        "cream in potatoes stewed\n",
        "clear green soup turtle\n",
        "cream ice strawberry\n",
        "grilled potatoes sweet\n",
        "baked potatoes\n",
        "clams little necks\n",
        "lyonnaise potatoes\n",
        "ale bass dog head s\n",
        "boiled eggs two\n",
        "au gratin potatoes\n",
        "browned hashed potatoes\n",
        "co dry extra g h mumm\n",
        "cream ice vanilla\n"
       ]
      }
     ],
     "prompt_number": 35
    },
    {
     "cell_type": "markdown",
     "metadata": {},
     "source": [
      "Let's use the fingerprints, to directly set up a mapping. Here we're just going to assert what the value of name ought to be based on particular fingerprint without the interactive procedure of refining variant values."
     ]
    },
    {
     "cell_type": "code",
     "collapsed": false,
     "input": [
      "updates = {\n",
      "'fruit grape half' : 'grapefruit, half',\n",
      "'lettuce salad' : 'salad, lettuce',\n",
      "'lobster salad' : 'salad, lobster',\n",
      "'brown hashed potatoes' : 'potatoes, hashed brown',\n",
      "'chocolate cream ice' : 'ice cream, chocolate',\n",
      "'co dry extra g h mumm s' : \"champagne, g. h. mumm's & co. (extra dry)\", \n",
      "'cream in potatoes stewed' : 'potatoes, stewed in cream',\n",
      "'clear green soup turtle' : 'soup, clear green turtle',\n",
      "'cream ice strawberry' : 'ice cream, strawberry',\n",
      "'grilled potatoes sweet' : 'sweet potatoes, grilled',\n",
      "'baked potatoes' : 'potatoes, baked',\n",
      "'clams little necks' : 'clams, little neck',\n",
      "'lyonnaise potatoes' : 'potatoes, lyonnaise',\n",
      "'ale bass dog head s' : \"ale, bass dog's head\",\n",
      "'boiled eggs two' : 'eggs, boiled (2)',\n",
      "'au gratin potatoes' : 'potatoes, au gratin',\n",
      "'browned hashed potatoes' : 'potatoes, hashed brown',\n",
      "'co dry extra g h mumm' : \"champagne, g. h. mumm's & co. (extra dry)\",\n",
      "'cream ice vanilla' : 'ice cream, vanilla'\n",
      "}"
     ],
     "language": "python",
     "metadata": {},
     "outputs": [],
     "prompt_number": 36
    },
    {
     "cell_type": "markdown",
     "metadata": {},
     "source": [
      "The keys of this dictionary are the algorithmically-generated fingerprints"
     ]
    },
    {
     "cell_type": "code",
     "collapsed": false,
     "input": [
      "updates.keys()"
     ],
     "language": "python",
     "metadata": {},
     "outputs": [
      {
       "metadata": {},
       "output_type": "pyout",
       "prompt_number": 37,
       "text": [
        "dict_keys(['boiled eggs two', 'chocolate cream ice', 'clams little necks', 'browned hashed potatoes', 'ale bass dog head s', 'cream ice vanilla', 'grilled potatoes sweet', 'lobster salad', 'cream ice strawberry', 'au gratin potatoes', 'co dry extra g h mumm', 'lettuce salad', 'clear green soup turtle', 'cream in potatoes stewed', 'baked potatoes', 'brown hashed potatoes', 'fruit grape half', 'lyonnaise potatoes', 'co dry extra g h mumm s'])"
       ]
      }
     ],
     "prompt_number": 37
    },
    {
     "cell_type": "markdown",
     "metadata": {},
     "source": [
      "For each key, we'll create a temporary dataframe of just the corresponding rows, then use our mapping to create a column with the canonical value corresponding to each key and finally update the main dataframe with the new value."
     ]
    },
    {
     "cell_type": "code",
     "collapsed": false,
     "input": [
      "for k in updates.keys():\n",
      "    temp_df = second_sample_df[second_sample_df.fingerprint == k]\n",
      "    temp_df['canonical'] = temp_df.fingerprint.map(updates)\n",
      "    dishes_df.name_modified = temp_df.canonical.combine_first(dishes_df.name_modified)"
     ],
     "language": "python",
     "metadata": {},
     "outputs": [],
     "prompt_number": 38
    },
    {
     "cell_type": "code",
     "collapsed": false,
     "input": [
      "unique_dish_names_t2 = dishes_df.name_modified.nunique()"
     ],
     "language": "python",
     "metadata": {},
     "outputs": [],
     "prompt_number": 39
    },
    {
     "cell_type": "code",
     "collapsed": false,
     "input": [
      "unique_dish_names_t1 - unique_dish_names_t2"
     ],
     "language": "python",
     "metadata": {},
     "outputs": [
      {
       "metadata": {},
       "output_type": "pyout",
       "prompt_number": 40,
       "text": [
        "238"
       ]
      }
     ],
     "prompt_number": 40
    },
    {
     "cell_type": "markdown",
     "metadata": {},
     "source": [
      "After this, our count of unique values just dropped by over 200. We can check that our updates worked as expected by inspecting rows with one of the fingerprint values from our sample \u2026"
     ]
    },
    {
     "cell_type": "code",
     "collapsed": false,
     "input": [
      "dishes_df[dishes_df.fingerprint =='grilled potatoes sweet']"
     ],
     "language": "python",
     "metadata": {},
     "outputs": [
      {
       "html": [
        "<div style=\"max-height:1000px;max-width:1500px;overflow:auto;\">\n",
        "<table border=\"1\" class=\"dataframe\">\n",
        "  <thead>\n",
        "    <tr style=\"text-align: right;\">\n",
        "      <th></th>\n",
        "      <th>name</th>\n",
        "      <th>description</th>\n",
        "      <th>menus_appeared</th>\n",
        "      <th>times_appeared</th>\n",
        "      <th>first_appeared</th>\n",
        "      <th>last_appeared</th>\n",
        "      <th>lowest_price</th>\n",
        "      <th>highest_price</th>\n",
        "      <th>name_modified</th>\n",
        "      <th>fingerprint</th>\n",
        "    </tr>\n",
        "    <tr>\n",
        "      <th>id</th>\n",
        "      <th></th>\n",
        "      <th></th>\n",
        "      <th></th>\n",
        "      <th></th>\n",
        "      <th></th>\n",
        "      <th></th>\n",
        "      <th></th>\n",
        "      <th></th>\n",
        "      <th></th>\n",
        "      <th></th>\n",
        "    </tr>\n",
        "  </thead>\n",
        "  <tbody>\n",
        "    <tr>\n",
        "      <th>4525  </th>\n",
        "      <td>  Sweet Potatoes, Grilled</td>\n",
        "      <td>NaN</td>\n",
        "      <td>  50</td>\n",
        "      <td>  52</td>\n",
        "      <td> 1900</td>\n",
        "      <td> 1937</td>\n",
        "      <td> 0.15</td>\n",
        "      <td> 0.40</td>\n",
        "      <td> sweet potatoes, grilled</td>\n",
        "      <td> grilled potatoes sweet</td>\n",
        "    </tr>\n",
        "    <tr>\n",
        "      <th>6388  </th>\n",
        "      <td>   Potatoes Grilled Sweet</td>\n",
        "      <td>NaN</td>\n",
        "      <td>   1</td>\n",
        "      <td>   1</td>\n",
        "      <td> 1907</td>\n",
        "      <td> 1907</td>\n",
        "      <td> 0.20</td>\n",
        "      <td> 0.20</td>\n",
        "      <td> sweet potatoes, grilled</td>\n",
        "      <td> grilled potatoes sweet</td>\n",
        "    </tr>\n",
        "    <tr>\n",
        "      <th>20882 </th>\n",
        "      <td>   Grilled sweet potatoes</td>\n",
        "      <td>NaN</td>\n",
        "      <td> 124</td>\n",
        "      <td> 126</td>\n",
        "      <td> 1897</td>\n",
        "      <td> 1955</td>\n",
        "      <td> 0.00</td>\n",
        "      <td> 0.50</td>\n",
        "      <td> sweet potatoes, grilled</td>\n",
        "      <td> grilled potatoes sweet</td>\n",
        "    </tr>\n",
        "    <tr>\n",
        "      <th>46266 </th>\n",
        "      <td>  SWEET POTATOES--Grilled</td>\n",
        "      <td>NaN</td>\n",
        "      <td>   3</td>\n",
        "      <td>   3</td>\n",
        "      <td> 1900</td>\n",
        "      <td> 1914</td>\n",
        "      <td> 0.25</td>\n",
        "      <td> 0.25</td>\n",
        "      <td> sweet potatoes, grilled</td>\n",
        "      <td> grilled potatoes sweet</td>\n",
        "    </tr>\n",
        "    <tr>\n",
        "      <th>68053 </th>\n",
        "      <td>   SWEET POTATOES-Grilled</td>\n",
        "      <td>NaN</td>\n",
        "      <td>   1</td>\n",
        "      <td>   1</td>\n",
        "      <td> 1907</td>\n",
        "      <td> 1907</td>\n",
        "      <td> 0.20</td>\n",
        "      <td> 0.20</td>\n",
        "      <td> sweet potatoes, grilled</td>\n",
        "      <td> grilled potatoes sweet</td>\n",
        "    </tr>\n",
        "    <tr>\n",
        "      <th>94970 </th>\n",
        "      <td>  Potatoes, Grilled Sweet</td>\n",
        "      <td>NaN</td>\n",
        "      <td>   2</td>\n",
        "      <td>   2</td>\n",
        "      <td> 1901</td>\n",
        "      <td> 1912</td>\n",
        "      <td> 0.20</td>\n",
        "      <td> 0.25</td>\n",
        "      <td> sweet potatoes, grilled</td>\n",
        "      <td> grilled potatoes sweet</td>\n",
        "    </tr>\n",
        "    <tr>\n",
        "      <th>333385</th>\n",
        "      <td>   Sweet Potatoes Grilled</td>\n",
        "      <td>NaN</td>\n",
        "      <td>   9</td>\n",
        "      <td>  10</td>\n",
        "      <td> 1914</td>\n",
        "      <td> 1941</td>\n",
        "      <td> 0.15</td>\n",
        "      <td> 0.35</td>\n",
        "      <td> sweet potatoes, grilled</td>\n",
        "      <td> grilled potatoes sweet</td>\n",
        "    </tr>\n",
        "    <tr>\n",
        "      <th>340463</th>\n",
        "      <td>  Sweet Potatoes: Grilled</td>\n",
        "      <td>NaN</td>\n",
        "      <td>   2</td>\n",
        "      <td>   2</td>\n",
        "      <td> 1919</td>\n",
        "      <td> 1937</td>\n",
        "      <td> 0.30</td>\n",
        "      <td> 0.45</td>\n",
        "      <td> sweet potatoes, grilled</td>\n",
        "      <td> grilled potatoes sweet</td>\n",
        "    </tr>\n",
        "    <tr>\n",
        "      <th>374049</th>\n",
        "      <td>   Grilled Sweet Potatoes</td>\n",
        "      <td>NaN</td>\n",
        "      <td>  57</td>\n",
        "      <td>  57</td>\n",
        "      <td> 1912</td>\n",
        "      <td> 1933</td>\n",
        "      <td> 0.10</td>\n",
        "      <td> 0.40</td>\n",
        "      <td> sweet potatoes, grilled</td>\n",
        "      <td> grilled potatoes sweet</td>\n",
        "    </tr>\n",
        "    <tr>\n",
        "      <th>374929</th>\n",
        "      <td>   Sweet potatoes grilled</td>\n",
        "      <td>NaN</td>\n",
        "      <td>   4</td>\n",
        "      <td>   4</td>\n",
        "      <td> 1917</td>\n",
        "      <td> 1920</td>\n",
        "      <td> 0.30</td>\n",
        "      <td> 0.35</td>\n",
        "      <td> sweet potatoes, grilled</td>\n",
        "      <td> grilled potatoes sweet</td>\n",
        "    </tr>\n",
        "    <tr>\n",
        "      <th>387428</th>\n",
        "      <td> Sweet potatoes - grilled</td>\n",
        "      <td>NaN</td>\n",
        "      <td>   3</td>\n",
        "      <td>   3</td>\n",
        "      <td> 1918</td>\n",
        "      <td> 1918</td>\n",
        "      <td> 0.30</td>\n",
        "      <td> 0.30</td>\n",
        "      <td> sweet potatoes, grilled</td>\n",
        "      <td> grilled potatoes sweet</td>\n",
        "    </tr>\n",
        "    <tr>\n",
        "      <th>390330</th>\n",
        "      <td>  Sweet potatoes, grilled</td>\n",
        "      <td>NaN</td>\n",
        "      <td>  11</td>\n",
        "      <td>  11</td>\n",
        "      <td> 1917</td>\n",
        "      <td> 1918</td>\n",
        "      <td> 0.20</td>\n",
        "      <td> 0.30</td>\n",
        "      <td> sweet potatoes, grilled</td>\n",
        "      <td> grilled potatoes sweet</td>\n",
        "    </tr>\n",
        "    <tr>\n",
        "      <th>392860</th>\n",
        "      <td>   Grilled Sweet potatoes</td>\n",
        "      <td>NaN</td>\n",
        "      <td>   1</td>\n",
        "      <td>   1</td>\n",
        "      <td> 1917</td>\n",
        "      <td> 1917</td>\n",
        "      <td> 0.30</td>\n",
        "      <td> 0.30</td>\n",
        "      <td> sweet potatoes, grilled</td>\n",
        "      <td> grilled potatoes sweet</td>\n",
        "    </tr>\n",
        "    <tr>\n",
        "      <th>394796</th>\n",
        "      <td>  Potatoes, Grilled sweet</td>\n",
        "      <td>NaN</td>\n",
        "      <td>   1</td>\n",
        "      <td>   1</td>\n",
        "      <td> 1917</td>\n",
        "      <td> 1917</td>\n",
        "      <td> 0.30</td>\n",
        "      <td> 0.30</td>\n",
        "      <td> sweet potatoes, grilled</td>\n",
        "      <td> grilled potatoes sweet</td>\n",
        "    </tr>\n",
        "    <tr>\n",
        "      <th>395390</th>\n",
        "      <td>  Grilled Sweet Potatoes </td>\n",
        "      <td>NaN</td>\n",
        "      <td>   1</td>\n",
        "      <td>   1</td>\n",
        "      <td> 1917</td>\n",
        "      <td> 1917</td>\n",
        "      <td> 0.15</td>\n",
        "      <td> 0.15</td>\n",
        "      <td> sweet potatoes, grilled</td>\n",
        "      <td> grilled potatoes sweet</td>\n",
        "    </tr>\n",
        "    <tr>\n",
        "      <th>395973</th>\n",
        "      <td> Sweet Potatoes , Grilled</td>\n",
        "      <td>NaN</td>\n",
        "      <td>   1</td>\n",
        "      <td>   1</td>\n",
        "      <td> 1917</td>\n",
        "      <td> 1917</td>\n",
        "      <td> 0.25</td>\n",
        "      <td> 0.25</td>\n",
        "      <td> sweet potatoes, grilled</td>\n",
        "      <td> grilled potatoes sweet</td>\n",
        "    </tr>\n",
        "    <tr>\n",
        "      <th>396588</th>\n",
        "      <td> SWEET POTATOES---Grilled</td>\n",
        "      <td>NaN</td>\n",
        "      <td>   1</td>\n",
        "      <td>   1</td>\n",
        "      <td> 1917</td>\n",
        "      <td> 1917</td>\n",
        "      <td> 0.30</td>\n",
        "      <td> 0.30</td>\n",
        "      <td> sweet potatoes, grilled</td>\n",
        "      <td> grilled potatoes sweet</td>\n",
        "    </tr>\n",
        "    <tr>\n",
        "      <th>396787</th>\n",
        "      <td>   sweet potatoes grilled</td>\n",
        "      <td>NaN</td>\n",
        "      <td>   1</td>\n",
        "      <td>   1</td>\n",
        "      <td> 1917</td>\n",
        "      <td> 1917</td>\n",
        "      <td> 0.30</td>\n",
        "      <td> 0.30</td>\n",
        "      <td> sweet potatoes, grilled</td>\n",
        "      <td> grilled potatoes sweet</td>\n",
        "    </tr>\n",
        "    <tr>\n",
        "      <th>397932</th>\n",
        "      <td> SWEET POTATOES - Grilled</td>\n",
        "      <td>NaN</td>\n",
        "      <td>   2</td>\n",
        "      <td>   2</td>\n",
        "      <td> 1917</td>\n",
        "      <td> 1917</td>\n",
        "      <td> 0.30</td>\n",
        "      <td> 0.30</td>\n",
        "      <td> sweet potatoes, grilled</td>\n",
        "      <td> grilled potatoes sweet</td>\n",
        "    </tr>\n",
        "    <tr>\n",
        "      <th>404142</th>\n",
        "      <td>   GRILLED SWEET POTATOES</td>\n",
        "      <td>NaN</td>\n",
        "      <td>   1</td>\n",
        "      <td>   1</td>\n",
        "      <td> 1917</td>\n",
        "      <td> 1917</td>\n",
        "      <td>  NaN</td>\n",
        "      <td>  NaN</td>\n",
        "      <td> sweet potatoes, grilled</td>\n",
        "      <td> grilled potatoes sweet</td>\n",
        "    </tr>\n",
        "    <tr>\n",
        "      <th>406091</th>\n",
        "      <td>   grilled sweet potatoes</td>\n",
        "      <td>NaN</td>\n",
        "      <td>   2</td>\n",
        "      <td>   2</td>\n",
        "      <td> 1917</td>\n",
        "      <td> 1917</td>\n",
        "      <td> 0.30</td>\n",
        "      <td> 0.30</td>\n",
        "      <td> sweet potatoes, grilled</td>\n",
        "      <td> grilled potatoes sweet</td>\n",
        "    </tr>\n",
        "    <tr>\n",
        "      <th>409581</th>\n",
        "      <td>   Sweet Potatoes grilled</td>\n",
        "      <td>NaN</td>\n",
        "      <td>   2</td>\n",
        "      <td>   2</td>\n",
        "      <td> 1917</td>\n",
        "      <td> 1917</td>\n",
        "      <td> 0.20</td>\n",
        "      <td> 0.25</td>\n",
        "      <td> sweet potatoes, grilled</td>\n",
        "      <td> grilled potatoes sweet</td>\n",
        "    </tr>\n",
        "    <tr>\n",
        "      <th>410280</th>\n",
        "      <td> sweet potatoes - grilled</td>\n",
        "      <td>NaN</td>\n",
        "      <td>   1</td>\n",
        "      <td>   1</td>\n",
        "      <td> 1917</td>\n",
        "      <td> 1917</td>\n",
        "      <td> 0.30</td>\n",
        "      <td> 0.30</td>\n",
        "      <td> sweet potatoes, grilled</td>\n",
        "      <td> grilled potatoes sweet</td>\n",
        "    </tr>\n",
        "    <tr>\n",
        "      <th>411475</th>\n",
        "      <td>  Sweet potatoes--Grilled</td>\n",
        "      <td>NaN</td>\n",
        "      <td>   1</td>\n",
        "      <td>   1</td>\n",
        "      <td> 1917</td>\n",
        "      <td> 1917</td>\n",
        "      <td> 0.30</td>\n",
        "      <td> 0.30</td>\n",
        "      <td> sweet potatoes, grilled</td>\n",
        "      <td> grilled potatoes sweet</td>\n",
        "    </tr>\n",
        "  </tbody>\n",
        "</table>\n",
        "<p>24 rows \u00d7 10 columns</p>\n",
        "</div>"
       ],
       "metadata": {},
       "output_type": "pyout",
       "prompt_number": 41,
       "text": [
        "                            name  description  menus_appeared  times_appeared  \\\n",
        "id                                                                              \n",
        "4525     Sweet Potatoes, Grilled          NaN              50              52   \n",
        "6388      Potatoes Grilled Sweet          NaN               1               1   \n",
        "20882     Grilled sweet potatoes          NaN             124             126   \n",
        "46266    SWEET POTATOES--Grilled          NaN               3               3   \n",
        "68053     SWEET POTATOES-Grilled          NaN               1               1   \n",
        "94970    Potatoes, Grilled Sweet          NaN               2               2   \n",
        "333385    Sweet Potatoes Grilled          NaN               9              10   \n",
        "340463   Sweet Potatoes: Grilled          NaN               2               2   \n",
        "374049    Grilled Sweet Potatoes          NaN              57              57   \n",
        "374929    Sweet potatoes grilled          NaN               4               4   \n",
        "387428  Sweet potatoes - grilled          NaN               3               3   \n",
        "390330   Sweet potatoes, grilled          NaN              11              11   \n",
        "392860    Grilled Sweet potatoes          NaN               1               1   \n",
        "394796   Potatoes, Grilled sweet          NaN               1               1   \n",
        "395390   Grilled Sweet Potatoes           NaN               1               1   \n",
        "395973  Sweet Potatoes , Grilled          NaN               1               1   \n",
        "396588  SWEET POTATOES---Grilled          NaN               1               1   \n",
        "396787    sweet potatoes grilled          NaN               1               1   \n",
        "397932  SWEET POTATOES - Grilled          NaN               2               2   \n",
        "404142    GRILLED SWEET POTATOES          NaN               1               1   \n",
        "406091    grilled sweet potatoes          NaN               2               2   \n",
        "409581    Sweet Potatoes grilled          NaN               2               2   \n",
        "410280  sweet potatoes - grilled          NaN               1               1   \n",
        "411475   Sweet potatoes--Grilled          NaN               1               1   \n",
        "\n",
        "        first_appeared  last_appeared  lowest_price  highest_price  \\\n",
        "id                                                                   \n",
        "4525              1900           1937          0.15           0.40   \n",
        "6388              1907           1907          0.20           0.20   \n",
        "20882             1897           1955          0.00           0.50   \n",
        "46266             1900           1914          0.25           0.25   \n",
        "68053             1907           1907          0.20           0.20   \n",
        "94970             1901           1912          0.20           0.25   \n",
        "333385            1914           1941          0.15           0.35   \n",
        "340463            1919           1937          0.30           0.45   \n",
        "374049            1912           1933          0.10           0.40   \n",
        "374929            1917           1920          0.30           0.35   \n",
        "387428            1918           1918          0.30           0.30   \n",
        "390330            1917           1918          0.20           0.30   \n",
        "392860            1917           1917          0.30           0.30   \n",
        "394796            1917           1917          0.30           0.30   \n",
        "395390            1917           1917          0.15           0.15   \n",
        "395973            1917           1917          0.25           0.25   \n",
        "396588            1917           1917          0.30           0.30   \n",
        "396787            1917           1917          0.30           0.30   \n",
        "397932            1917           1917          0.30           0.30   \n",
        "404142            1917           1917           NaN            NaN   \n",
        "406091            1917           1917          0.30           0.30   \n",
        "409581            1917           1917          0.20           0.25   \n",
        "410280            1917           1917          0.30           0.30   \n",
        "411475            1917           1917          0.30           0.30   \n",
        "\n",
        "                  name_modified             fingerprint  \n",
        "id                                                       \n",
        "4525    sweet potatoes, grilled  grilled potatoes sweet  \n",
        "6388    sweet potatoes, grilled  grilled potatoes sweet  \n",
        "20882   sweet potatoes, grilled  grilled potatoes sweet  \n",
        "46266   sweet potatoes, grilled  grilled potatoes sweet  \n",
        "68053   sweet potatoes, grilled  grilled potatoes sweet  \n",
        "94970   sweet potatoes, grilled  grilled potatoes sweet  \n",
        "333385  sweet potatoes, grilled  grilled potatoes sweet  \n",
        "340463  sweet potatoes, grilled  grilled potatoes sweet  \n",
        "374049  sweet potatoes, grilled  grilled potatoes sweet  \n",
        "374929  sweet potatoes, grilled  grilled potatoes sweet  \n",
        "387428  sweet potatoes, grilled  grilled potatoes sweet  \n",
        "390330  sweet potatoes, grilled  grilled potatoes sweet  \n",
        "392860  sweet potatoes, grilled  grilled potatoes sweet  \n",
        "394796  sweet potatoes, grilled  grilled potatoes sweet  \n",
        "395390  sweet potatoes, grilled  grilled potatoes sweet  \n",
        "395973  sweet potatoes, grilled  grilled potatoes sweet  \n",
        "396588  sweet potatoes, grilled  grilled potatoes sweet  \n",
        "396787  sweet potatoes, grilled  grilled potatoes sweet  \n",
        "397932  sweet potatoes, grilled  grilled potatoes sweet  \n",
        "404142  sweet potatoes, grilled  grilled potatoes sweet  \n",
        "406091  sweet potatoes, grilled  grilled potatoes sweet  \n",
        "409581  sweet potatoes, grilled  grilled potatoes sweet  \n",
        "410280  sweet potatoes, grilled  grilled potatoes sweet  \n",
        "411475  sweet potatoes, grilled  grilled potatoes sweet  \n",
        "\n",
        "[24 rows x 10 columns]"
       ]
      }
     ],
     "prompt_number": 41
    },
    {
     "cell_type": "markdown",
     "metadata": {},
     "source": [
      "Let's save out a copy of this partially-corrected data \u2026"
     ]
    },
    {
     "cell_type": "code",
     "collapsed": false,
     "input": [
      "dishes_df.to_csv('../data/dishes/dishes_1851_to_1921.csv')"
     ],
     "language": "python",
     "metadata": {},
     "outputs": [],
     "prompt_number": 42
    },
    {
     "cell_type": "code",
     "collapsed": false,
     "input": [
      "third_sample = second_sample = [val for val in s[clusters_5_and_greater].order()[:-31].index]"
     ],
     "language": "python",
     "metadata": {},
     "outputs": [],
     "prompt_number": 44
    },
    {
     "cell_type": "code",
     "collapsed": false,
     "input": [
      "len(third_sample)"
     ],
     "language": "python",
     "metadata": {},
     "outputs": [
      {
       "metadata": {},
       "output_type": "pyout",
       "prompt_number": 45,
       "text": [
        "2222"
       ]
      }
     ],
     "prompt_number": 45
    },
    {
     "cell_type": "code",
     "collapsed": false,
     "input": [
      "third_sample_df = dishes_df[dishes_df.fingerprint.isin(third_sample)]"
     ],
     "language": "python",
     "metadata": {},
     "outputs": [],
     "prompt_number": 48
    },
    {
     "cell_type": "code",
     "collapsed": false,
     "input": [
      "third_sample_df.name_modified.nunique()"
     ],
     "language": "python",
     "metadata": {},
     "outputs": [
      {
       "metadata": {},
       "output_type": "pyout",
       "prompt_number": 52,
       "text": [
        "9983"
       ]
      }
     ],
     "prompt_number": 52
    },
    {
     "cell_type": "code",
     "collapsed": false,
     "input": [
      "third_sample_df.to_csv('/Users/libraries/Downloads/third_refine_sample.csv')"
     ],
     "language": "python",
     "metadata": {},
     "outputs": [],
     "prompt_number": 51
    },
    {
     "cell_type": "markdown",
     "metadata": {},
     "source": [
      "Out to Open Refine and back \u2026"
     ]
    },
    {
     "cell_type": "code",
     "collapsed": false,
     "input": [
      "more_refined = pd.DataFrame.from_csv('/Users/libraries/Downloads/third_refine_sample-cleaned.csv')"
     ],
     "language": "python",
     "metadata": {},
     "outputs": [],
     "prompt_number": 53
    },
    {
     "cell_type": "code",
     "collapsed": false,
     "input": [
      "more_refined.head(2)"
     ],
     "language": "python",
     "metadata": {},
     "outputs": [
      {
       "html": [
        "<div style=\"max-height:1000px;max-width:1500px;overflow:auto;\">\n",
        "<table border=\"1\" class=\"dataframe\">\n",
        "  <thead>\n",
        "    <tr style=\"text-align: right;\">\n",
        "      <th></th>\n",
        "      <th>name</th>\n",
        "      <th>description</th>\n",
        "      <th>menus_appeared</th>\n",
        "      <th>times_appeared</th>\n",
        "      <th>first_appeared</th>\n",
        "      <th>last_appeared</th>\n",
        "      <th>lowest_price</th>\n",
        "      <th>highest_price</th>\n",
        "      <th>name_modified</th>\n",
        "      <th>fingerprint</th>\n",
        "    </tr>\n",
        "    <tr>\n",
        "      <th>id</th>\n",
        "      <th></th>\n",
        "      <th></th>\n",
        "      <th></th>\n",
        "      <th></th>\n",
        "      <th></th>\n",
        "      <th></th>\n",
        "      <th></th>\n",
        "      <th></th>\n",
        "      <th></th>\n",
        "      <th></th>\n",
        "    </tr>\n",
        "  </thead>\n",
        "  <tbody>\n",
        "    <tr>\n",
        "      <th>1</th>\n",
        "      <td> Consomme printaniere royal</td>\n",
        "      <td>NaN</td>\n",
        "      <td>  10</td>\n",
        "      <td>  10</td>\n",
        "      <td> 1897</td>\n",
        "      <td> 1927</td>\n",
        "      <td> 0.2</td>\n",
        "      <td> 0.4</td>\n",
        "      <td> consomme printaniere royal</td>\n",
        "      <td> consomme printaniere royal</td>\n",
        "    </tr>\n",
        "    <tr>\n",
        "      <th>2</th>\n",
        "      <td>              Chicken gumbo</td>\n",
        "      <td>NaN</td>\n",
        "      <td> 109</td>\n",
        "      <td> 115</td>\n",
        "      <td> 1895</td>\n",
        "      <td> 1960</td>\n",
        "      <td> 0.1</td>\n",
        "      <td> 0.8</td>\n",
        "      <td>              chicken gumbo</td>\n",
        "      <td>              chicken gumbo</td>\n",
        "    </tr>\n",
        "  </tbody>\n",
        "</table>\n",
        "<p>2 rows \u00d7 10 columns</p>\n",
        "</div>"
       ],
       "metadata": {},
       "output_type": "pyout",
       "prompt_number": 54,
       "text": [
        "                          name  description  menus_appeared  times_appeared  \\\n",
        "id                                                                            \n",
        "1   Consomme printaniere royal          NaN              10              10   \n",
        "2                Chicken gumbo          NaN             109             115   \n",
        "\n",
        "    first_appeared  last_appeared  lowest_price  highest_price  \\\n",
        "id                                                               \n",
        "1             1897           1927           0.2            0.4   \n",
        "2             1895           1960           0.1            0.8   \n",
        "\n",
        "                 name_modified                 fingerprint  \n",
        "id                                                          \n",
        "1   consomme printaniere royal  consomme printaniere royal  \n",
        "2                chicken gumbo               chicken gumbo  \n",
        "\n",
        "[2 rows x 10 columns]"
       ]
      }
     ],
     "prompt_number": 54
    },
    {
     "cell_type": "code",
     "collapsed": false,
     "input": [
      "more_refined.name_modified.nunique()"
     ],
     "language": "python",
     "metadata": {},
     "outputs": [
      {
       "metadata": {},
       "output_type": "pyout",
       "prompt_number": 55,
       "text": [
        "7214"
       ]
      }
     ],
     "prompt_number": 55
    },
    {
     "cell_type": "code",
     "collapsed": false,
     "input": [
      "dishes_df.name_modified.update(more_refined.name_modified)"
     ],
     "language": "python",
     "metadata": {},
     "outputs": [],
     "prompt_number": 56
    },
    {
     "cell_type": "code",
     "collapsed": false,
     "input": [
      "unique_dish_names_t3 = dishes_df.name_modified.nunique()"
     ],
     "language": "python",
     "metadata": {},
     "outputs": [],
     "prompt_number": 57
    },
    {
     "cell_type": "code",
     "collapsed": false,
     "input": [
      "unique_dish_names_t2-unique_dish_names_t3"
     ],
     "language": "python",
     "metadata": {},
     "outputs": [
      {
       "metadata": {},
       "output_type": "pyout",
       "prompt_number": 58,
       "text": [
        "2775"
       ]
      }
     ],
     "prompt_number": 58
    },
    {
     "cell_type": "markdown",
     "metadata": {},
     "source": [
      "This latest round of data clean up reduced the number of unique names in the data set by almost 2800."
     ]
    },
    {
     "cell_type": "code",
     "collapsed": false,
     "input": [
      "unique_dish_names_t0-unique_dish_names_t3"
     ],
     "language": "python",
     "metadata": {},
     "outputs": [
      {
       "metadata": {},
       "output_type": "pyout",
       "prompt_number": 59,
       "text": [
        "3185"
       ]
      }
     ],
     "prompt_number": 59
    },
    {
     "cell_type": "markdown",
     "metadata": {},
     "source": [
      "Since the first round of normalization above, the number of unique values is down over 3,000"
     ]
    },
    {
     "cell_type": "markdown",
     "metadata": {},
     "source": [
      "Save out a copy of progress to this point \u2026"
     ]
    },
    {
     "cell_type": "code",
     "collapsed": false,
     "input": [
      "dishes_df.to_csv('../data/dishes/dishes_1851_to_1921.csv')"
     ],
     "language": "python",
     "metadata": {},
     "outputs": [],
     "prompt_number": 60
    },
    {
     "cell_type": "markdown",
     "metadata": {},
     "source": [
      "At this point, there look to be about 138,500 unique names left. From inspecting the size of the clusters above, we know that there are almost 100,100 singleton values (not amenable to improvement via clustering) so this is a far more manageable number than it seems."
     ]
    },
    {
     "cell_type": "code",
     "collapsed": false,
     "input": [
      "unique_dish_names_t3"
     ],
     "language": "python",
     "metadata": {},
     "outputs": [
      {
       "metadata": {},
       "output_type": "pyout",
       "prompt_number": 61,
       "text": [
        "138596"
       ]
      }
     ],
     "prompt_number": 61
    }
   ],
   "metadata": {}
  }
 ]
}