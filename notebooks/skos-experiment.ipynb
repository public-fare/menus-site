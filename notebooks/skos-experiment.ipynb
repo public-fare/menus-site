{
 "metadata": {
  "name": ""
 },
 "nbformat": 3,
 "nbformat_minor": 0,
 "worksheets": [
  {
   "cells": [
    {
     "cell_type": "code",
     "collapsed": false,
     "input": [
      "from rdflib import Graph, Literal, Namespace, RDF, URIRef"
     ],
     "language": "python",
     "metadata": {},
     "outputs": [],
     "prompt_number": 1
    },
    {
     "cell_type": "code",
     "collapsed": false,
     "input": [
      "graph = Graph()\n",
      "skos = Namespace('http://www.w3.org/2004/02/skos/core#')\n",
      "graph.bind('skos', skos)"
     ],
     "language": "python",
     "metadata": {},
     "outputs": [],
     "prompt_number": 2
    },
    {
     "cell_type": "code",
     "collapsed": false,
     "input": [
      "graph.add((URIRef('http://id.curatingmenus.org/vocab/foods'), RDF['type'], skos['Concept']))\n",
      "graph.add((URIRef('http://id.curatingmenus.org/vocab/foods'), skos['prefLabel'], Literal('Foods', lang='en')))"
     ],
     "language": "python",
     "metadata": {},
     "outputs": [],
     "prompt_number": 3
    },
    {
     "cell_type": "code",
     "collapsed": false,
     "input": [
      "graph.add((URIRef('http://id.curatingmenus.org/vocab/animal_foods'), RDF['type'], skos['Concept']))\n",
      "graph.add((URIRef('http://id.curatingmenus.org/vocab/animal_foods'), skos['prefLabel'], Literal('Animal Foods', lang='en')))\n",
      "graph.add((URIRef('http://id.curatingmenus.org/vocab/animal_foods'), skos['broader'], URIRef('http://id.curatingmenus.org/vocab/foods')))"
     ],
     "language": "python",
     "metadata": {},
     "outputs": [],
     "prompt_number": 4
    },
    {
     "cell_type": "code",
     "collapsed": false,
     "input": [
      "print(graph.serialize(format='nt'))"
     ],
     "language": "python",
     "metadata": {},
     "outputs": [
      {
       "output_type": "stream",
       "stream": "stdout",
       "text": [
        "b'<http://id.curatingmenus.org/vocab/animal_foods> <http://www.w3.org/2004/02/skos/core#prefLabel> \"Animal Foods\"@en .\\n<http://id.curatingmenus.org/vocab/foods> <http://www.w3.org/1999/02/22-rdf-syntax-ns#type> <http://www.w3.org/2004/02/skos/core#Concept> .\\n<http://id.curatingmenus.org/vocab/animal_foods> <http://www.w3.org/1999/02/22-rdf-syntax-ns#type> <http://www.w3.org/2004/02/skos/core#Concept> .\\n<http://id.curatingmenus.org/vocab/foods> <http://www.w3.org/2004/02/skos/core#prefLabel> \"Foods\"@en .\\n<http://id.curatingmenus.org/vocab/animal_foods> <http://www.w3.org/2004/02/skos/core#broader> <http://id.curatingmenus.org/vocab/foods> .\\n\\n'\n"
       ]
      }
     ],
     "prompt_number": 7
    },
    {
     "cell_type": "code",
     "collapsed": false,
     "input": [
      "test_file_skos = '/Users/libraries/Downloads/skos_test.nt'\n",
      "with open(test_file_skos, 'w') as outfile:\n",
      "    outfile.write(graph.serialize(format='nt').decode())"
     ],
     "language": "python",
     "metadata": {},
     "outputs": [],
     "prompt_number": 8
    }
   ],
   "metadata": {}
  }
 ]
}